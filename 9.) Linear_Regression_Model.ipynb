{
  "cells": [
    {
      "cell_type": "markdown",
      "metadata": {},
      "source": [
        "# Linear Regression"
      ]
    },
    {
      "cell_type": "code",
      "execution_count": null,
      "metadata": {},
      "outputs": [],
      "source": [
        "import pandas as pd\n",
        "import os\n",
        "from IPython.display import display\n",
        "import numpy as np\n",
        "import matplotlib.pyplot as plt\n",
        "import seaborn as sns\n",
        "from sklearn.preprocessing import MinMaxScaler\n",
        "from sklearn.model_selection import train_test_split\n",
        "from sklearn.linear_model import LinearRegression\n",
        "import re\n",
        "import nltk\n",
        "from nltk.corpus import stopwords\n",
        "from nltk.tokenize import word_tokenize\n",
        "from nltk.stem import WordNetLemmatizer"
      ]
    },
    {
      "cell_type": "code",
      "execution_count": null,
      "metadata": {},
      "outputs": [],
      "source": [
        "TMDB_filename = os.path.join(os.getcwd(), \"TMDB_tv_dataset_v3.csv\")\n",
        "df = pd.read_csv(TMDB_filename)"
      ]
    },
    {
      "cell_type": "code",
      "execution_count": null,
      "metadata": {},
      "outputs": [],
      "source": [
        "drop_columns = {'popularity', 'cleaned_overview', 'overview'}"
      ]
    },
    {
      "cell_type": "code",
      "execution_count": null,
      "metadata": {},
      "outputs": [],
      "source": [
        "# Creating our labeled examples with 'y' as our label and 'X' being our features\n",
        "y = df['popularity']\n",
        "X = df.drop(columns = drop_columns, axis = 1)"
      ]
    },
    {
      "cell_type": "code",
      "execution_count": null,
      "metadata": {},
      "outputs": [],
      "source": [
        "# Fill missing values in one-hot encoded columns with -1 or 'Unknown'\n",
        "X.fillna(-1, inplace=True)  # or use 'Unknown'"
      ]
    },
    {
      "cell_type": "markdown",
      "metadata": {},
      "source": [
        "We use train_test_split() because we want to split our data into training and test sets.\n",
        "\n",
        "Train tests are used for fitting the model which means we train our model with this dataset.\n",
        "\n",
        "Test sets are used to accurately evalute our final model's predicitions."
      ]
    },
    {
      "cell_type": "code",
      "execution_count": null,
      "metadata": {},
      "outputs": [],
      "source": [
        "# Creating the training and test sets out of the labeled examples\n",
        "# 30% of our data is for the test size, this will be the data used to test the model\n",
        "X_train, X_test, y_train, y_test = train_test_split(X, y, test_size = 0.30, random_state = 1234)"
      ]
    },
    {
      "cell_type": "code",
      "execution_count": null,
      "metadata": {},
      "outputs": [],
      "source": [
        "# pd.set_option('display.max_columns', None)\n",
        "# print(X_train.isnull().sum())\n",
        "\n",
        "null_columns = X_train.columns[X_train.isnull().any()]\n",
        "for col in null_columns:\n",
        "    print(col)"
      ]
    },
    {
      "cell_type": "code",
      "execution_count": null,
      "metadata": {},
      "outputs": [],
      "source": [
        "bool_columns = X_train.select_dtypes(include=['bool'])\n",
        "print(bool_columns.columns)"
      ]
    },
    {
      "cell_type": "markdown",
      "metadata": {},
      "source": [
        "Linear Regression"
      ]
    },
    {
      "cell_type": "code",
      "execution_count": null,
      "metadata": {},
      "outputs": [],
      "source": [
        "print(X.dtypes)\n",
        "\n",
        "for col in df.columns:\n",
        "    print(f\"Column: {col}, Type: {df[col].dtype}\")"
      ]
    },
    {
      "cell_type": "code",
      "execution_count": null,
      "metadata": {},
      "outputs": [],
      "source": [
        "categorical_cols = X.select_dtypes(include=['object']).columns\n",
        "print(categorical_cols)"
      ]
    },
    {
      "cell_type": "code",
      "execution_count": null,
      "metadata": {},
      "outputs": [],
      "source": [
        "for column in X.columns:\n",
        "    missing_count = X[column].isnull().sum()\n",
        "    print(f\"Column: {column}, Missing Values: {missing_count}\")"
      ]
    },
    {
      "cell_type": "code",
      "execution_count": null,
      "metadata": {},
      "outputs": [],
      "source": [
        "LR_model = LinearRegression()\n",
        "LR_model.fit(X_train, y_train)"
      ]
    },
    {
      "cell_type": "code",
      "execution_count": null,
      "metadata": {},
      "outputs": [],
      "source": [
        "y_lr_pred = LR_model.predict(X_test)"
      ]
    },
    {
      "cell_type": "code",
      "execution_count": null,
      "metadata": {},
      "outputs": [],
      "source": [
        "from sklearn.metrics import r2_score, mean_squared_error, mean_absolute_error, mean_squared_error, root_mean_squared_error\n",
        "\n",
        "# Compute RMSE using the new function\n",
        "LR_rmse = root_mean_squared_error(y_test, y_lr_pred)\n",
        "\n",
        "LR_mse = mean_squared_error(y_test, y_lr_pred)\n",
        "\n",
        "# Compute R² score\n",
        "LR_r2 = r2_score(y_test, y_lr_pred)\n",
        "\n",
        "# Compute MAE using the new function\n",
        "LR_mae = mean_absolute_error(y_test, y_lr_pred)\n",
        "\n",
        "# Print the results\n",
        "print('Linear Regression: Root Mean Squared Error: {}'.format(LR_rmse))\n",
        "print('Linear Regression: R^2: {}'.format(LR_r2))\n",
        "print('Linear Regression: Mean Absolute Error: {}'.format(LR_mae))\n",
        "print('Linear Regression: Mean Squared Error: {}'.format(LR_mse))\n",
        "\n",
        "print('done')"
      ]
    }
  ],
  "metadata": {
    "colab": {
      "provenance": []
    },
    "kernelspec": {
      "display_name": "Python 3",
      "name": "python3"
    },
    "language_info": {
      "codemirror_mode": {
        "name": "ipython",
        "version": 3
      },
      "file_extension": ".py",
      "mimetype": "text/x-python",
      "name": "python",
      "nbconvert_exporter": "python",
      "pygments_lexer": "ipython3",
      "version": "3.11.5"
    }
  },
  "nbformat": 4,
  "nbformat_minor": 0
}
