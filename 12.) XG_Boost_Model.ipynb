{
 "cells": [
  {
   "cell_type": "code",
   "execution_count": 1,
   "metadata": {},
   "outputs": [],
   "source": [
    "import pandas as pd\n",
    "import os\n",
    "from IPython.display import display\n",
    "import numpy as np\n",
    "import matplotlib.pyplot as plt\n",
    "import seaborn as sns\n",
    "from sklearn.preprocessing import MinMaxScaler\n",
    "from sklearn.model_selection import train_test_split\n",
    "from sklearn.linear_model import LinearRegression\n",
    "import re\n",
    "import nltk\n",
    "from nltk.corpus import stopwords\n",
    "from nltk.tokenize import word_tokenize\n",
    "from nltk.stem import WordNetLemmatizer"
   ]
  },
  {
   "cell_type": "code",
   "execution_count": 4,
   "metadata": {},
   "outputs": [],
   "source": [
    "# Load preprocessed data from Notebooks: 1,2,3,5,6,8 \n",
    "df = pd.read_csv(\"TMDB_tv_dataset_v3.csv\")\n"
   ]
  },
  {
   "cell_type": "code",
   "execution_count": 5,
   "metadata": {},
   "outputs": [],
   "source": [
    "# Missing Values\n",
    "numerical_cols = df.select_dtypes(include=['float64', 'int64']).columns\n",
    "df[numerical_cols] = df[numerical_cols].fillna(df[numerical_cols].mean())\n",
    "\n",
    "categorical_cols = df.select_dtypes(include=['object']).columns\n",
    "columns_to_fill = [col for col in categorical_cols if col != 'genres']\n",
    "df[columns_to_fill] = df[columns_to_fill].apply(lambda col: col.fillna(col.mode()[0]))\n",
    "\n",
    "# Remove duplicates\n",
    "df = df.drop_duplicates()\n",
    "\n",
    "#One Hot Encoding\n",
    "df['genres'] = df['genres'].fillna('Unknown') # for genres that are empty just call them Unknown\n",
    "\n",
    "df['genres'] = df['genres'].apply(lambda x: x.split(', '))\n",
    "\n",
    "unique_genres = sorted(set(genre for genres in df['genres'] for genre in genres))\n",
    "\n",
    "for genre in unique_genres:\n",
    "  df[genre] = df['genres'].apply(lambda genres: int(genre in genres))\n",
    "\n",
    "df = df.drop('genres', axis=1)\n",
    "\n",
    "df.to_csv('TMDB_tv_dataset_v3.csv', index=False)\n",
    "\n",
    "list = df.select_dtypes(include=['object']).columns.tolist()\n",
    "encode_cols =['original_language','type', 'status','created_by','networks','origin_country','production_companies']\n",
    "\n",
    "# Creating one-hot encoded columns for original_language\n",
    "top_20_original_language = df['original_language'].value_counts(ascending = False).head(20).index.tolist()\n",
    "for i in top_20_original_language:\n",
    "    name = 'original-language_' + i\n",
    "    df[name] = np.where(df['original_language'] == i, 1, 0)\n",
    "\n",
    "# Removing the original_language column from df and encode_cols\n",
    "df.drop(columns = ['original_language'], inplace = True)\n",
    "encode_cols.remove('original_language')\n",
    "df.columns\n",
    "\n",
    "# Creating a list of the top 10 values in the created_by column\n",
    "top_10_created_by = df['created_by'].value_counts(ascending = False).head(10).index.tolist()\n",
    "# Creating one-hot encoded columns for created_by\n",
    "for i in top_10_created_by:\n",
    "    name = 'created-by_' + i\n",
    "    df[name] = np.where(df['created_by'] == i, 1, 0)\n",
    "\n",
    "# Removing the created_by column from df and encode_cols\n",
    "df.drop(columns = ['created_by'], inplace = True)\n",
    "encode_cols.remove('created_by')\n",
    "\n",
    "# Creating a list of the top 11 values in the networks column\n",
    "top_11_networks = df['networks'].value_counts(ascending = False).head(11).index.tolist()\n",
    "\n",
    "# Creating one-hot encoded columns for networks\n",
    "for i in top_11_networks:\n",
    "    name = 'networks_' + i\n",
    "    df[name] = np.where(df['networks'] == i, 1, 0)\n",
    "\n",
    "# Removing the networks column from df and encode_cols\n",
    "df.drop(columns = ['networks'], inplace = True)\n",
    "encode_cols.remove('networks')\n",
    "\n",
    "# Creating a list of the top 10 values in the origin_country column\n",
    "top_26_origin_country = df['origin_country'].value_counts(ascending = False).head(26).index.tolist()\n",
    "\n",
    "one_hot_encoded_origin_country = pd.DataFrame() # start with an empty dataframe\n",
    "\n",
    "for i in top_26_origin_country:\n",
    "    one_hot_encoded_origin_country['origin-country_' + i] = np.where(df['origin_country'] == i, 1, 0)\n",
    "\n",
    "# the we can concatenate the one-hot encoded columns to the original DataFrame\n",
    "df = pd.concat([df, one_hot_encoded_origin_country], axis=1)\n",
    "\n",
    "# Removing the origin_country column from df and encode_cols\n",
    "df.drop(columns = ['origin_country'], inplace = True)\n",
    "encode_cols.remove('origin_country')\n",
    "\n",
    "# Creating a list of the top 10 values in the production_companies column\n",
    "top_10_production_companies = df['production_companies'].value_counts(ascending = False).head(10).index.tolist()\n",
    "\n",
    "one_hot_encoded_production_companies = pd.DataFrame() # start with an empty dataframe\n",
    "\n",
    "for i in top_26_origin_country:\n",
    "    one_hot_encoded_production_companies['production-companies_' + i] = np.where(df['production_companies'] == i, 1, 0)\n",
    "\n",
    "# the we can concatenate the one-hot encoded columns to the original DataFrame\n",
    "df = pd.concat([df, one_hot_encoded_production_companies], axis=1)\n",
    "\n",
    "# Removing the production_companies column from df and encode_cols\n",
    "df.drop(columns = ['production_companies'], inplace = True)\n",
    "encode_cols.remove('production_companies')\n",
    "\n",
    "# One-hot encoding remaining columns\n",
    "for colname in encode_cols:\n",
    "    df_encoded = pd.get_dummies(df[colname], prefix=colname+'')\n",
    "    df = df.join(df_encoded)\n",
    "\n",
    "# Removing remaining original cols from df\n",
    "df.drop(columns=encode_cols,axis=1,inplace=True)\n"
   ]
  },
  {
   "cell_type": "code",
   "execution_count": 6,
   "metadata": {},
   "outputs": [
    {
     "name": "stdout",
     "output_type": "stream",
     "text": [
      "datetime64[ns]\n",
      "datetime64[ns]\n"
     ]
    },
    {
     "name": "stderr",
     "output_type": "stream",
     "text": [
      "/var/folders/0c/2849ld6n7nl3ds4y08tlktqr0000gn/T/ipykernel_93420/3851158569.py:22: PerformanceWarning: DataFrame is highly fragmented.  This is usually the result of calling `frame.insert` many times, which has poor performance.  Consider joining all columns at once using pd.concat(axis=1) instead. To get a de-fragmented frame, use `newframe = frame.copy()`\n",
      "  df['first_air_date_season'] = df['first_air_date'].apply(get_season)\n",
      "/var/folders/0c/2849ld6n7nl3ds4y08tlktqr0000gn/T/ipykernel_93420/3851158569.py:26: PerformanceWarning: DataFrame is highly fragmented.  This is usually the result of calling `frame.insert` many times, which has poor performance.  Consider joining all columns at once using pd.concat(axis=1) instead. To get a de-fragmented frame, use `newframe = frame.copy()`\n",
      "  df['first_air_date_winter'] = df['first_air_date_season'] == 'WINTER'\n",
      "/var/folders/0c/2849ld6n7nl3ds4y08tlktqr0000gn/T/ipykernel_93420/3851158569.py:27: PerformanceWarning: DataFrame is highly fragmented.  This is usually the result of calling `frame.insert` many times, which has poor performance.  Consider joining all columns at once using pd.concat(axis=1) instead. To get a de-fragmented frame, use `newframe = frame.copy()`\n",
      "  df['first_air_date_spring'] = df['first_air_date_season'] == 'SPRING'\n",
      "/var/folders/0c/2849ld6n7nl3ds4y08tlktqr0000gn/T/ipykernel_93420/3851158569.py:28: PerformanceWarning: DataFrame is highly fragmented.  This is usually the result of calling `frame.insert` many times, which has poor performance.  Consider joining all columns at once using pd.concat(axis=1) instead. To get a de-fragmented frame, use `newframe = frame.copy()`\n",
      "  df['first_air_date_summer'] = df['first_air_date_season'] == 'SUMMER'\n",
      "/var/folders/0c/2849ld6n7nl3ds4y08tlktqr0000gn/T/ipykernel_93420/3851158569.py:29: PerformanceWarning: DataFrame is highly fragmented.  This is usually the result of calling `frame.insert` many times, which has poor performance.  Consider joining all columns at once using pd.concat(axis=1) instead. To get a de-fragmented frame, use `newframe = frame.copy()`\n",
      "  df['first_air_date_fall'] = df['first_air_date_season'] == 'FALL'\n",
      "/var/folders/0c/2849ld6n7nl3ds4y08tlktqr0000gn/T/ipykernel_93420/3851158569.py:32: PerformanceWarning: DataFrame is highly fragmented.  This is usually the result of calling `frame.insert` many times, which has poor performance.  Consider joining all columns at once using pd.concat(axis=1) instead. To get a de-fragmented frame, use `newframe = frame.copy()`\n",
      "  df['last_air_date_season'] = df['last_air_date'].apply(get_season)\n"
     ]
    },
    {
     "data": {
      "text/plain": [
       "0          SPRING\n",
       "1          WINTER\n",
       "2          SUMMER\n",
       "3            FALL\n",
       "4            FALL\n",
       "           ...   \n",
       "168412    UNKNOWN\n",
       "168416    UNKNOWN\n",
       "168418    UNKNOWN\n",
       "168419    UNKNOWN\n",
       "168420    UNKNOWN\n",
       "Name: last_air_date_season, Length: 168593, dtype: object"
      ]
     },
     "execution_count": 6,
     "metadata": {},
     "output_type": "execute_result"
    }
   ],
   "source": [
    "# Converting first_air_date and last_air_date columns to DateTime referring to https://www.youtube.com/watch?v=f7LODKIjtaA\n",
    "df['first_air_date'] = pd.to_datetime(df['first_air_date'], format = '%Y-%m-%d')\n",
    "df['last_air_date'] = pd.to_datetime(df['last_air_date'], format = '%Y-%m-%d' )\n",
    "print(df['first_air_date'].dtypes)\n",
    "print(df['last_air_date'].dtypes)\n",
    "\n",
    "# Creating a function to create seasons for each month\n",
    "def get_season(date):\n",
    "    month = date.month\n",
    "    if month in [12, 1, 2]:\n",
    "        return 'WINTER'\n",
    "    elif month in [3, 4, 5]:\n",
    "        return 'SPRING'\n",
    "    elif month in [6, 7, 8]:\n",
    "        return 'SUMMER'\n",
    "    elif month in [9, 10, 11]:\n",
    "        return 'FALL'\n",
    "    else:\n",
    "        return 'UNKNOWN'\n",
    "    \n",
    "# Creating a column with the seasons for first_air_date\n",
    "df['first_air_date_season'] = df['first_air_date'].apply(get_season)\n",
    "df['first_air_date_season']\n",
    "\n",
    "# Creating columns for first_air_date_season as boolean values\n",
    "df['first_air_date_winter'] = df['first_air_date_season'] == 'WINTER'\n",
    "df['first_air_date_spring'] = df['first_air_date_season'] == 'SPRING'\n",
    "df['first_air_date_summer'] = df['first_air_date_season'] == 'SUMMER'\n",
    "df['first_air_date_fall'] = df['first_air_date_season'] == 'FALL'\n",
    "\n",
    "# Repeating same process for last_air_date\n",
    "df['last_air_date_season'] = df['last_air_date'].apply(get_season)\n",
    "df['last_air_date_season']\n"
   ]
  },
  {
   "cell_type": "code",
   "execution_count": 8,
   "metadata": {},
   "outputs": [
    {
     "name": "stdout",
     "output_type": "stream",
     "text": [
      "datetime64[ns]\n",
      "datetime64[ns]\n"
     ]
    },
    {
     "data": {
      "text/plain": [
       "0          SPRING\n",
       "1          WINTER\n",
       "2          SUMMER\n",
       "3            FALL\n",
       "4            FALL\n",
       "           ...   \n",
       "168412    UNKNOWN\n",
       "168416    UNKNOWN\n",
       "168418    UNKNOWN\n",
       "168419    UNKNOWN\n",
       "168420    UNKNOWN\n",
       "Name: last_air_date_season, Length: 168593, dtype: object"
      ]
     },
     "execution_count": 8,
     "metadata": {},
     "output_type": "execute_result"
    }
   ],
   "source": [
    "# Converting first_air_date and last_air_date columns to DateTime referring to https://www.youtube.com/watch?v=f7LODKIjtaA\n",
    "df['first_air_date'] = pd.to_datetime(df['first_air_date'], format = '%Y-%m-%d')\n",
    "df['last_air_date'] = pd.to_datetime(df['last_air_date'], format = '%Y-%m-%d' )\n",
    "print(df['first_air_date'].dtypes)\n",
    "print(df['last_air_date'].dtypes)\n",
    "\n",
    "# Creating a function to create seasons for each month\n",
    "def get_season(date):\n",
    "    month = date.month\n",
    "    if month in [12, 1, 2]:\n",
    "        return 'WINTER'\n",
    "    elif month in [3, 4, 5]:\n",
    "        return 'SPRING'\n",
    "    elif month in [6, 7, 8]:\n",
    "        return 'SUMMER'\n",
    "    elif month in [9, 10, 11]:\n",
    "        return 'FALL'\n",
    "    else:\n",
    "        return 'UNKNOWN'\n",
    "    \n",
    "# Creating a column with the seasons for first_air_date\n",
    "df['first_air_date_season'] = df['first_air_date'].apply(get_season)\n",
    "df['first_air_date_season']\n",
    "\n",
    "# Creating columns for first_air_date_season as boolean values\n",
    "df['first_air_date_winter'] = df['first_air_date_season'] == 'WINTER'\n",
    "df['first_air_date_spring'] = df['first_air_date_season'] == 'SPRING'\n",
    "df['first_air_date_summer'] = df['first_air_date_season'] == 'SUMMER'\n",
    "df['first_air_date_fall'] = df['first_air_date_season'] == 'FALL'\n",
    "\n",
    "# Repeating same process for last_air_date\n",
    "df['last_air_date_season'] = df['last_air_date'].apply(get_season)\n",
    "df['last_air_date_season']\n"
   ]
  },
  {
   "cell_type": "code",
   "execution_count": 9,
   "metadata": {},
   "outputs": [
    {
     "name": "stdout",
     "output_type": "stream",
     "text": [
      "        id              name  number_of_seasons  number_of_episodes  \\\n",
      "0   1399.0   Game of Thrones                8.0                73.0   \n",
      "1  71446.0       Money Heist                3.0                41.0   \n",
      "2  66732.0   Stranger Things                4.0                34.0   \n",
      "3   1402.0  The Walking Dead               11.0               177.0   \n",
      "4  63174.0           Lucifer                6.0                93.0   \n",
      "\n",
      "   vote_count  vote_average  \\\n",
      "0     21857.0         8.442   \n",
      "1     17836.0         8.257   \n",
      "2     16161.0         8.624   \n",
      "3     15432.0         8.121   \n",
      "4     13870.0         8.486   \n",
      "\n",
      "                                            overview  adult  \\\n",
      "0  Seven noble families fight for control of the ...  False   \n",
      "1  To carry out the biggest heist in history, a m...  False   \n",
      "2  When a young boy vanishes, a small town uncove...  False   \n",
      "3  Sheriff's deputy Rick Grimes awakens from a co...  False   \n",
      "4  Bored and unhappy as the Lord of Hell, Lucifer...  False   \n",
      "\n",
      "                      backdrop_path first_air_date  ... first_air_date_spring  \\\n",
      "0   /2OMB0ynKlyIenMJWI2Dy9IWT4c.jpg     2011-04-17  ...                  True   \n",
      "1  /gFZriCkpJYsApPZEF3jhxL4yLzG.jpg     2017-05-02  ...                  True   \n",
      "2  /2MaumbgBlW1NoPo3ZJO38A6v7OS.jpg     2016-07-15  ...                 False   \n",
      "3  /x4salpjB11umlUOltfNvSSrjSXm.jpg     2010-10-31  ...                 False   \n",
      "4  /aDBRtunw49UF4XmqfyNuD9nlYIu.jpg     2016-01-25  ...                 False   \n",
      "\n",
      "  first_air_date_summer first_air_date_fall last_air_date_season  \\\n",
      "0                 False               False               SPRING   \n",
      "1                 False               False               WINTER   \n",
      "2                  True               False               SUMMER   \n",
      "3                 False                True                 FALL   \n",
      "4                 False               False                 FALL   \n",
      "\n",
      "   number_of_seasons_log number_of_episodes_log vote_count_log  \\\n",
      "0               2.197225               4.304065       9.992322   \n",
      "1               1.386294               3.737670       9.789030   \n",
      "2               1.609438               3.555348       9.690418   \n",
      "3               2.484907               5.181784       9.644263   \n",
      "4               1.945910               4.543295       9.537556   \n",
      "\n",
      "  vote_average_log popularity_log episode_run_time_log  \n",
      "0         2.245168       6.989259             0.000000  \n",
      "1         2.225380       4.578354             4.262680  \n",
      "2         2.264260       5.229562             0.000000  \n",
      "3         2.210579       6.195927             3.761200  \n",
      "4         2.249817       6.034687             3.828641  \n",
      "\n",
      "[5 rows x 160 columns]\n",
      "       number_of_seasons_log  number_of_episodes_log  vote_count_log  \\\n",
      "count          167059.000000           167059.000000   167059.000000   \n",
      "mean                0.756984                2.014484        0.575712   \n",
      "std                 0.495780                1.432871        1.122633   \n",
      "min                 0.000000                0.000000        0.000000   \n",
      "25%                 0.693147                0.693147        0.000000   \n",
      "50%                 0.693147                1.945910        0.000000   \n",
      "75%                 0.693147                3.044522        0.693147   \n",
      "max                 5.484797                9.944629        9.992322   \n",
      "\n",
      "       vote_average_log  popularity_log  episode_run_time_log  \n",
      "count     167059.000000   167059.000000         167059.000000  \n",
      "mean           0.692656        1.030757              1.810148  \n",
      "std            0.976512        0.895498              1.872455  \n",
      "min            0.000000        0.000000              0.000000  \n",
      "25%            0.000000        0.470004              0.000000  \n",
      "50%            0.000000        0.628075              0.000000  \n",
      "75%            1.945910        1.243578              3.761200  \n",
      "max            2.397895        8.218250              8.705000  \n"
     ]
    }
   ],
   "source": [
    "#XGBoost expects numerical values (int, float, bool) for training, so any non-numeric columns need to be encoded or removed.\n",
    "#original_language, type, status (One-Hot Encoding)\n",
    "\n",
    "\n",
    "# List of original numerical columns\n",
    "numerical_columns = ['number_of_seasons', 'number_of_episodes', 'vote_count', 'vote_average', 'popularity', 'episode_run_time']\n",
    "\n",
    "# Apply log transformation and rename columns with \"_log\"\n",
    "df_log = df[numerical_columns].apply(lambda x: np.log1p(x)).add_suffix('_log')\n",
    "\n",
    "# Concatenate the log-transformed columns with the original DataFrame\n",
    "df = pd.concat([df, df_log], axis=1)\n",
    "\n",
    "# Display the DataFrame to confirm new columns\n",
    "print(df.head())\n",
    "\n",
    "# List of log-transformed numerical columns\n",
    "numerical_columns_log = [col + '_log' for col in numerical_columns]\n",
    "\n",
    "# Display summary statistics for log-transformed columns\n",
    "print(df[numerical_columns_log].describe())\n",
    "\n"
   ]
  },
  {
   "cell_type": "code",
   "execution_count": 10,
   "metadata": {},
   "outputs": [],
   "source": [
    "# Winsorize\n",
    "from scipy.stats.mstats import winsorize\n",
    "\n",
    "# Define the limits for Winsorization\n",
    "lower_limit = 0.05  # 5th percentile\n",
    "upper_limit = 0.95  # 95th percentile\n",
    "\n",
    "# Winsorize each numerical column and add it back to the DataFrame\n",
    "for col in numerical_columns:\n",
    "    df[col + '_winsorized'] = winsorize(df[col], limits=(lower_limit, 1 - upper_limit))\n",
    "\n",
    "# Winsorize each log-transformed numerical column and add it back to the DataFrame\n",
    "for col in numerical_columns_log:\n",
    "    df[col + '_winsorized'] = winsorize(df[col], limits=(lower_limit, 1 - upper_limit))"
   ]
  },
  {
   "cell_type": "code",
   "execution_count": 11,
   "metadata": {},
   "outputs": [
    {
     "name": "stdout",
     "output_type": "stream",
     "text": [
      "        id              name  number_of_seasons  number_of_episodes  \\\n",
      "0   1399.0   Game of Thrones                8.0                73.0   \n",
      "1  71446.0       Money Heist                3.0                41.0   \n",
      "2  66732.0   Stranger Things                4.0                34.0   \n",
      "3   1402.0  The Walking Dead               11.0               177.0   \n",
      "4  63174.0           Lucifer                6.0                93.0   \n",
      "\n",
      "   vote_count  vote_average  \\\n",
      "0     21857.0         8.442   \n",
      "1     17836.0         8.257   \n",
      "2     16161.0         8.624   \n",
      "3     15432.0         8.121   \n",
      "4     13870.0         8.486   \n",
      "\n",
      "                                            overview  adult  \\\n",
      "0  Seven noble families fight for control of the ...  False   \n",
      "1  To carry out the biggest heist in history, a m...  False   \n",
      "2  When a young boy vanishes, a small town uncove...  False   \n",
      "3  Sheriff's deputy Rick Grimes awakens from a co...  False   \n",
      "4  Bored and unhappy as the Lord of Hell, Lucifer...  False   \n",
      "\n",
      "                      backdrop_path first_air_date  ...  \\\n",
      "0   /2OMB0ynKlyIenMJWI2Dy9IWT4c.jpg     2011-04-17  ...   \n",
      "1  /gFZriCkpJYsApPZEF3jhxL4yLzG.jpg     2017-05-02  ...   \n",
      "2  /2MaumbgBlW1NoPo3ZJO38A6v7OS.jpg     2016-07-15  ...   \n",
      "3  /x4salpjB11umlUOltfNvSSrjSXm.jpg     2010-10-31  ...   \n",
      "4  /aDBRtunw49UF4XmqfyNuD9nlYIu.jpg     2016-01-25  ...   \n",
      "\n",
      "  vote_count_winsorized_norm vote_average_winsorized_norm  \\\n",
      "0                        1.0                     0.938000   \n",
      "1                        1.0                     0.917444   \n",
      "2                        1.0                     0.958222   \n",
      "3                        1.0                     0.902333   \n",
      "4                        1.0                     0.942889   \n",
      "\n",
      "  popularity_winsorized_norm episode_run_time_winsorized_norm  \\\n",
      "0                        1.0                         0.000000   \n",
      "1                        1.0                         1.000000   \n",
      "2                        1.0                         0.000000   \n",
      "3                        1.0                         0.600000   \n",
      "4                        1.0                         0.642857   \n",
      "\n",
      "   number_of_seasons_log_winsorized_norm  \\\n",
      "0                               1.000000   \n",
      "1                               0.773706   \n",
      "2                               0.898244   \n",
      "3                               1.000000   \n",
      "4                               1.000000   \n",
      "\n",
      "  number_of_episodes_log_winsorized_norm vote_count_log_winsorized_norm  \\\n",
      "0                               0.922938                            1.0   \n",
      "1                               0.801484                            1.0   \n",
      "2                               0.762388                            1.0   \n",
      "3                               1.000000                            1.0   \n",
      "4                               0.974237                            1.0   \n",
      "\n",
      "  vote_average_log_winsorized_norm popularity_log_winsorized_norm  \\\n",
      "0                         0.975064                            1.0   \n",
      "1                         0.966470                            1.0   \n",
      "2                         0.983356                            1.0   \n",
      "3                         0.960042                            1.0   \n",
      "4                         0.977083                            1.0   \n",
      "\n",
      "  episode_run_time_log_winsorized_norm  \n",
      "0                             0.000000  \n",
      "1                             1.000000  \n",
      "2                             0.000000  \n",
      "3                             0.882356  \n",
      "4                             0.898177  \n",
      "\n",
      "[5 rows x 311 columns]\n"
     ]
    },
    {
     "name": "stderr",
     "output_type": "stream",
     "text": [
      "/var/folders/0c/2849ld6n7nl3ds4y08tlktqr0000gn/T/ipykernel_93420/3659227612.py:11: PerformanceWarning: DataFrame is highly fragmented.  This is usually the result of calling `frame.insert` many times, which has poor performance.  Consider joining all columns at once using pd.concat(axis=1) instead. To get a de-fragmented frame, use `newframe = frame.copy()`\n",
      "  df[[col + '_norm' for col in numeric_columns]] = scaler.fit_transform(df[numeric_columns])\n",
      "/var/folders/0c/2849ld6n7nl3ds4y08tlktqr0000gn/T/ipykernel_93420/3659227612.py:11: PerformanceWarning: DataFrame is highly fragmented.  This is usually the result of calling `frame.insert` many times, which has poor performance.  Consider joining all columns at once using pd.concat(axis=1) instead. To get a de-fragmented frame, use `newframe = frame.copy()`\n",
      "  df[[col + '_norm' for col in numeric_columns]] = scaler.fit_transform(df[numeric_columns])\n",
      "/var/folders/0c/2849ld6n7nl3ds4y08tlktqr0000gn/T/ipykernel_93420/3659227612.py:11: PerformanceWarning: DataFrame is highly fragmented.  This is usually the result of calling `frame.insert` many times, which has poor performance.  Consider joining all columns at once using pd.concat(axis=1) instead. To get a de-fragmented frame, use `newframe = frame.copy()`\n",
      "  df[[col + '_norm' for col in numeric_columns]] = scaler.fit_transform(df[numeric_columns])\n",
      "/var/folders/0c/2849ld6n7nl3ds4y08tlktqr0000gn/T/ipykernel_93420/3659227612.py:11: PerformanceWarning: DataFrame is highly fragmented.  This is usually the result of calling `frame.insert` many times, which has poor performance.  Consider joining all columns at once using pd.concat(axis=1) instead. To get a de-fragmented frame, use `newframe = frame.copy()`\n",
      "  df[[col + '_norm' for col in numeric_columns]] = scaler.fit_transform(df[numeric_columns])\n",
      "/var/folders/0c/2849ld6n7nl3ds4y08tlktqr0000gn/T/ipykernel_93420/3659227612.py:11: PerformanceWarning: DataFrame is highly fragmented.  This is usually the result of calling `frame.insert` many times, which has poor performance.  Consider joining all columns at once using pd.concat(axis=1) instead. To get a de-fragmented frame, use `newframe = frame.copy()`\n",
      "  df[[col + '_norm' for col in numeric_columns]] = scaler.fit_transform(df[numeric_columns])\n",
      "/var/folders/0c/2849ld6n7nl3ds4y08tlktqr0000gn/T/ipykernel_93420/3659227612.py:11: PerformanceWarning: DataFrame is highly fragmented.  This is usually the result of calling `frame.insert` many times, which has poor performance.  Consider joining all columns at once using pd.concat(axis=1) instead. To get a de-fragmented frame, use `newframe = frame.copy()`\n",
      "  df[[col + '_norm' for col in numeric_columns]] = scaler.fit_transform(df[numeric_columns])\n",
      "/var/folders/0c/2849ld6n7nl3ds4y08tlktqr0000gn/T/ipykernel_93420/3659227612.py:11: PerformanceWarning: DataFrame is highly fragmented.  This is usually the result of calling `frame.insert` many times, which has poor performance.  Consider joining all columns at once using pd.concat(axis=1) instead. To get a de-fragmented frame, use `newframe = frame.copy()`\n",
      "  df[[col + '_norm' for col in numeric_columns]] = scaler.fit_transform(df[numeric_columns])\n",
      "/var/folders/0c/2849ld6n7nl3ds4y08tlktqr0000gn/T/ipykernel_93420/3659227612.py:11: PerformanceWarning: DataFrame is highly fragmented.  This is usually the result of calling `frame.insert` many times, which has poor performance.  Consider joining all columns at once using pd.concat(axis=1) instead. To get a de-fragmented frame, use `newframe = frame.copy()`\n",
      "  df[[col + '_norm' for col in numeric_columns]] = scaler.fit_transform(df[numeric_columns])\n",
      "/var/folders/0c/2849ld6n7nl3ds4y08tlktqr0000gn/T/ipykernel_93420/3659227612.py:11: PerformanceWarning: DataFrame is highly fragmented.  This is usually the result of calling `frame.insert` many times, which has poor performance.  Consider joining all columns at once using pd.concat(axis=1) instead. To get a de-fragmented frame, use `newframe = frame.copy()`\n",
      "  df[[col + '_norm' for col in numeric_columns]] = scaler.fit_transform(df[numeric_columns])\n",
      "/var/folders/0c/2849ld6n7nl3ds4y08tlktqr0000gn/T/ipykernel_93420/3659227612.py:11: PerformanceWarning: DataFrame is highly fragmented.  This is usually the result of calling `frame.insert` many times, which has poor performance.  Consider joining all columns at once using pd.concat(axis=1) instead. To get a de-fragmented frame, use `newframe = frame.copy()`\n",
      "  df[[col + '_norm' for col in numeric_columns]] = scaler.fit_transform(df[numeric_columns])\n",
      "/var/folders/0c/2849ld6n7nl3ds4y08tlktqr0000gn/T/ipykernel_93420/3659227612.py:11: PerformanceWarning: DataFrame is highly fragmented.  This is usually the result of calling `frame.insert` many times, which has poor performance.  Consider joining all columns at once using pd.concat(axis=1) instead. To get a de-fragmented frame, use `newframe = frame.copy()`\n",
      "  df[[col + '_norm' for col in numeric_columns]] = scaler.fit_transform(df[numeric_columns])\n",
      "/var/folders/0c/2849ld6n7nl3ds4y08tlktqr0000gn/T/ipykernel_93420/3659227612.py:11: PerformanceWarning: DataFrame is highly fragmented.  This is usually the result of calling `frame.insert` many times, which has poor performance.  Consider joining all columns at once using pd.concat(axis=1) instead. To get a de-fragmented frame, use `newframe = frame.copy()`\n",
      "  df[[col + '_norm' for col in numeric_columns]] = scaler.fit_transform(df[numeric_columns])\n",
      "/var/folders/0c/2849ld6n7nl3ds4y08tlktqr0000gn/T/ipykernel_93420/3659227612.py:11: PerformanceWarning: DataFrame is highly fragmented.  This is usually the result of calling `frame.insert` many times, which has poor performance.  Consider joining all columns at once using pd.concat(axis=1) instead. To get a de-fragmented frame, use `newframe = frame.copy()`\n",
      "  df[[col + '_norm' for col in numeric_columns]] = scaler.fit_transform(df[numeric_columns])\n",
      "/var/folders/0c/2849ld6n7nl3ds4y08tlktqr0000gn/T/ipykernel_93420/3659227612.py:11: PerformanceWarning: DataFrame is highly fragmented.  This is usually the result of calling `frame.insert` many times, which has poor performance.  Consider joining all columns at once using pd.concat(axis=1) instead. To get a de-fragmented frame, use `newframe = frame.copy()`\n",
      "  df[[col + '_norm' for col in numeric_columns]] = scaler.fit_transform(df[numeric_columns])\n",
      "/var/folders/0c/2849ld6n7nl3ds4y08tlktqr0000gn/T/ipykernel_93420/3659227612.py:11: PerformanceWarning: DataFrame is highly fragmented.  This is usually the result of calling `frame.insert` many times, which has poor performance.  Consider joining all columns at once using pd.concat(axis=1) instead. To get a de-fragmented frame, use `newframe = frame.copy()`\n",
      "  df[[col + '_norm' for col in numeric_columns]] = scaler.fit_transform(df[numeric_columns])\n",
      "/var/folders/0c/2849ld6n7nl3ds4y08tlktqr0000gn/T/ipykernel_93420/3659227612.py:11: PerformanceWarning: DataFrame is highly fragmented.  This is usually the result of calling `frame.insert` many times, which has poor performance.  Consider joining all columns at once using pd.concat(axis=1) instead. To get a de-fragmented frame, use `newframe = frame.copy()`\n",
      "  df[[col + '_norm' for col in numeric_columns]] = scaler.fit_transform(df[numeric_columns])\n",
      "/var/folders/0c/2849ld6n7nl3ds4y08tlktqr0000gn/T/ipykernel_93420/3659227612.py:11: PerformanceWarning: DataFrame is highly fragmented.  This is usually the result of calling `frame.insert` many times, which has poor performance.  Consider joining all columns at once using pd.concat(axis=1) instead. To get a de-fragmented frame, use `newframe = frame.copy()`\n",
      "  df[[col + '_norm' for col in numeric_columns]] = scaler.fit_transform(df[numeric_columns])\n",
      "/var/folders/0c/2849ld6n7nl3ds4y08tlktqr0000gn/T/ipykernel_93420/3659227612.py:11: PerformanceWarning: DataFrame is highly fragmented.  This is usually the result of calling `frame.insert` many times, which has poor performance.  Consider joining all columns at once using pd.concat(axis=1) instead. To get a de-fragmented frame, use `newframe = frame.copy()`\n",
      "  df[[col + '_norm' for col in numeric_columns]] = scaler.fit_transform(df[numeric_columns])\n",
      "/var/folders/0c/2849ld6n7nl3ds4y08tlktqr0000gn/T/ipykernel_93420/3659227612.py:11: PerformanceWarning: DataFrame is highly fragmented.  This is usually the result of calling `frame.insert` many times, which has poor performance.  Consider joining all columns at once using pd.concat(axis=1) instead. To get a de-fragmented frame, use `newframe = frame.copy()`\n",
      "  df[[col + '_norm' for col in numeric_columns]] = scaler.fit_transform(df[numeric_columns])\n",
      "/var/folders/0c/2849ld6n7nl3ds4y08tlktqr0000gn/T/ipykernel_93420/3659227612.py:11: PerformanceWarning: DataFrame is highly fragmented.  This is usually the result of calling `frame.insert` many times, which has poor performance.  Consider joining all columns at once using pd.concat(axis=1) instead. To get a de-fragmented frame, use `newframe = frame.copy()`\n",
      "  df[[col + '_norm' for col in numeric_columns]] = scaler.fit_transform(df[numeric_columns])\n",
      "/var/folders/0c/2849ld6n7nl3ds4y08tlktqr0000gn/T/ipykernel_93420/3659227612.py:11: PerformanceWarning: DataFrame is highly fragmented.  This is usually the result of calling `frame.insert` many times, which has poor performance.  Consider joining all columns at once using pd.concat(axis=1) instead. To get a de-fragmented frame, use `newframe = frame.copy()`\n",
      "  df[[col + '_norm' for col in numeric_columns]] = scaler.fit_transform(df[numeric_columns])\n",
      "/var/folders/0c/2849ld6n7nl3ds4y08tlktqr0000gn/T/ipykernel_93420/3659227612.py:11: PerformanceWarning: DataFrame is highly fragmented.  This is usually the result of calling `frame.insert` many times, which has poor performance.  Consider joining all columns at once using pd.concat(axis=1) instead. To get a de-fragmented frame, use `newframe = frame.copy()`\n",
      "  df[[col + '_norm' for col in numeric_columns]] = scaler.fit_transform(df[numeric_columns])\n",
      "/var/folders/0c/2849ld6n7nl3ds4y08tlktqr0000gn/T/ipykernel_93420/3659227612.py:11: PerformanceWarning: DataFrame is highly fragmented.  This is usually the result of calling `frame.insert` many times, which has poor performance.  Consider joining all columns at once using pd.concat(axis=1) instead. To get a de-fragmented frame, use `newframe = frame.copy()`\n",
      "  df[[col + '_norm' for col in numeric_columns]] = scaler.fit_transform(df[numeric_columns])\n",
      "/var/folders/0c/2849ld6n7nl3ds4y08tlktqr0000gn/T/ipykernel_93420/3659227612.py:11: PerformanceWarning: DataFrame is highly fragmented.  This is usually the result of calling `frame.insert` many times, which has poor performance.  Consider joining all columns at once using pd.concat(axis=1) instead. To get a de-fragmented frame, use `newframe = frame.copy()`\n",
      "  df[[col + '_norm' for col in numeric_columns]] = scaler.fit_transform(df[numeric_columns])\n",
      "/var/folders/0c/2849ld6n7nl3ds4y08tlktqr0000gn/T/ipykernel_93420/3659227612.py:11: PerformanceWarning: DataFrame is highly fragmented.  This is usually the result of calling `frame.insert` many times, which has poor performance.  Consider joining all columns at once using pd.concat(axis=1) instead. To get a de-fragmented frame, use `newframe = frame.copy()`\n",
      "  df[[col + '_norm' for col in numeric_columns]] = scaler.fit_transform(df[numeric_columns])\n",
      "/var/folders/0c/2849ld6n7nl3ds4y08tlktqr0000gn/T/ipykernel_93420/3659227612.py:11: PerformanceWarning: DataFrame is highly fragmented.  This is usually the result of calling `frame.insert` many times, which has poor performance.  Consider joining all columns at once using pd.concat(axis=1) instead. To get a de-fragmented frame, use `newframe = frame.copy()`\n",
      "  df[[col + '_norm' for col in numeric_columns]] = scaler.fit_transform(df[numeric_columns])\n",
      "/var/folders/0c/2849ld6n7nl3ds4y08tlktqr0000gn/T/ipykernel_93420/3659227612.py:11: PerformanceWarning: DataFrame is highly fragmented.  This is usually the result of calling `frame.insert` many times, which has poor performance.  Consider joining all columns at once using pd.concat(axis=1) instead. To get a de-fragmented frame, use `newframe = frame.copy()`\n",
      "  df[[col + '_norm' for col in numeric_columns]] = scaler.fit_transform(df[numeric_columns])\n",
      "/var/folders/0c/2849ld6n7nl3ds4y08tlktqr0000gn/T/ipykernel_93420/3659227612.py:11: PerformanceWarning: DataFrame is highly fragmented.  This is usually the result of calling `frame.insert` many times, which has poor performance.  Consider joining all columns at once using pd.concat(axis=1) instead. To get a de-fragmented frame, use `newframe = frame.copy()`\n",
      "  df[[col + '_norm' for col in numeric_columns]] = scaler.fit_transform(df[numeric_columns])\n",
      "/var/folders/0c/2849ld6n7nl3ds4y08tlktqr0000gn/T/ipykernel_93420/3659227612.py:11: PerformanceWarning: DataFrame is highly fragmented.  This is usually the result of calling `frame.insert` many times, which has poor performance.  Consider joining all columns at once using pd.concat(axis=1) instead. To get a de-fragmented frame, use `newframe = frame.copy()`\n",
      "  df[[col + '_norm' for col in numeric_columns]] = scaler.fit_transform(df[numeric_columns])\n",
      "/var/folders/0c/2849ld6n7nl3ds4y08tlktqr0000gn/T/ipykernel_93420/3659227612.py:11: PerformanceWarning: DataFrame is highly fragmented.  This is usually the result of calling `frame.insert` many times, which has poor performance.  Consider joining all columns at once using pd.concat(axis=1) instead. To get a de-fragmented frame, use `newframe = frame.copy()`\n",
      "  df[[col + '_norm' for col in numeric_columns]] = scaler.fit_transform(df[numeric_columns])\n",
      "/var/folders/0c/2849ld6n7nl3ds4y08tlktqr0000gn/T/ipykernel_93420/3659227612.py:11: PerformanceWarning: DataFrame is highly fragmented.  This is usually the result of calling `frame.insert` many times, which has poor performance.  Consider joining all columns at once using pd.concat(axis=1) instead. To get a de-fragmented frame, use `newframe = frame.copy()`\n",
      "  df[[col + '_norm' for col in numeric_columns]] = scaler.fit_transform(df[numeric_columns])\n",
      "/var/folders/0c/2849ld6n7nl3ds4y08tlktqr0000gn/T/ipykernel_93420/3659227612.py:11: PerformanceWarning: DataFrame is highly fragmented.  This is usually the result of calling `frame.insert` many times, which has poor performance.  Consider joining all columns at once using pd.concat(axis=1) instead. To get a de-fragmented frame, use `newframe = frame.copy()`\n",
      "  df[[col + '_norm' for col in numeric_columns]] = scaler.fit_transform(df[numeric_columns])\n",
      "/var/folders/0c/2849ld6n7nl3ds4y08tlktqr0000gn/T/ipykernel_93420/3659227612.py:11: PerformanceWarning: DataFrame is highly fragmented.  This is usually the result of calling `frame.insert` many times, which has poor performance.  Consider joining all columns at once using pd.concat(axis=1) instead. To get a de-fragmented frame, use `newframe = frame.copy()`\n",
      "  df[[col + '_norm' for col in numeric_columns]] = scaler.fit_transform(df[numeric_columns])\n",
      "/var/folders/0c/2849ld6n7nl3ds4y08tlktqr0000gn/T/ipykernel_93420/3659227612.py:11: PerformanceWarning: DataFrame is highly fragmented.  This is usually the result of calling `frame.insert` many times, which has poor performance.  Consider joining all columns at once using pd.concat(axis=1) instead. To get a de-fragmented frame, use `newframe = frame.copy()`\n",
      "  df[[col + '_norm' for col in numeric_columns]] = scaler.fit_transform(df[numeric_columns])\n",
      "/var/folders/0c/2849ld6n7nl3ds4y08tlktqr0000gn/T/ipykernel_93420/3659227612.py:11: PerformanceWarning: DataFrame is highly fragmented.  This is usually the result of calling `frame.insert` many times, which has poor performance.  Consider joining all columns at once using pd.concat(axis=1) instead. To get a de-fragmented frame, use `newframe = frame.copy()`\n",
      "  df[[col + '_norm' for col in numeric_columns]] = scaler.fit_transform(df[numeric_columns])\n",
      "/var/folders/0c/2849ld6n7nl3ds4y08tlktqr0000gn/T/ipykernel_93420/3659227612.py:11: PerformanceWarning: DataFrame is highly fragmented.  This is usually the result of calling `frame.insert` many times, which has poor performance.  Consider joining all columns at once using pd.concat(axis=1) instead. To get a de-fragmented frame, use `newframe = frame.copy()`\n",
      "  df[[col + '_norm' for col in numeric_columns]] = scaler.fit_transform(df[numeric_columns])\n",
      "/var/folders/0c/2849ld6n7nl3ds4y08tlktqr0000gn/T/ipykernel_93420/3659227612.py:11: PerformanceWarning: DataFrame is highly fragmented.  This is usually the result of calling `frame.insert` many times, which has poor performance.  Consider joining all columns at once using pd.concat(axis=1) instead. To get a de-fragmented frame, use `newframe = frame.copy()`\n",
      "  df[[col + '_norm' for col in numeric_columns]] = scaler.fit_transform(df[numeric_columns])\n",
      "/var/folders/0c/2849ld6n7nl3ds4y08tlktqr0000gn/T/ipykernel_93420/3659227612.py:11: PerformanceWarning: DataFrame is highly fragmented.  This is usually the result of calling `frame.insert` many times, which has poor performance.  Consider joining all columns at once using pd.concat(axis=1) instead. To get a de-fragmented frame, use `newframe = frame.copy()`\n",
      "  df[[col + '_norm' for col in numeric_columns]] = scaler.fit_transform(df[numeric_columns])\n",
      "/var/folders/0c/2849ld6n7nl3ds4y08tlktqr0000gn/T/ipykernel_93420/3659227612.py:11: PerformanceWarning: DataFrame is highly fragmented.  This is usually the result of calling `frame.insert` many times, which has poor performance.  Consider joining all columns at once using pd.concat(axis=1) instead. To get a de-fragmented frame, use `newframe = frame.copy()`\n",
      "  df[[col + '_norm' for col in numeric_columns]] = scaler.fit_transform(df[numeric_columns])\n",
      "/var/folders/0c/2849ld6n7nl3ds4y08tlktqr0000gn/T/ipykernel_93420/3659227612.py:11: PerformanceWarning: DataFrame is highly fragmented.  This is usually the result of calling `frame.insert` many times, which has poor performance.  Consider joining all columns at once using pd.concat(axis=1) instead. To get a de-fragmented frame, use `newframe = frame.copy()`\n",
      "  df[[col + '_norm' for col in numeric_columns]] = scaler.fit_transform(df[numeric_columns])\n",
      "/var/folders/0c/2849ld6n7nl3ds4y08tlktqr0000gn/T/ipykernel_93420/3659227612.py:11: PerformanceWarning: DataFrame is highly fragmented.  This is usually the result of calling `frame.insert` many times, which has poor performance.  Consider joining all columns at once using pd.concat(axis=1) instead. To get a de-fragmented frame, use `newframe = frame.copy()`\n",
      "  df[[col + '_norm' for col in numeric_columns]] = scaler.fit_transform(df[numeric_columns])\n",
      "/var/folders/0c/2849ld6n7nl3ds4y08tlktqr0000gn/T/ipykernel_93420/3659227612.py:11: PerformanceWarning: DataFrame is highly fragmented.  This is usually the result of calling `frame.insert` many times, which has poor performance.  Consider joining all columns at once using pd.concat(axis=1) instead. To get a de-fragmented frame, use `newframe = frame.copy()`\n",
      "  df[[col + '_norm' for col in numeric_columns]] = scaler.fit_transform(df[numeric_columns])\n",
      "/var/folders/0c/2849ld6n7nl3ds4y08tlktqr0000gn/T/ipykernel_93420/3659227612.py:11: PerformanceWarning: DataFrame is highly fragmented.  This is usually the result of calling `frame.insert` many times, which has poor performance.  Consider joining all columns at once using pd.concat(axis=1) instead. To get a de-fragmented frame, use `newframe = frame.copy()`\n",
      "  df[[col + '_norm' for col in numeric_columns]] = scaler.fit_transform(df[numeric_columns])\n",
      "/var/folders/0c/2849ld6n7nl3ds4y08tlktqr0000gn/T/ipykernel_93420/3659227612.py:11: PerformanceWarning: DataFrame is highly fragmented.  This is usually the result of calling `frame.insert` many times, which has poor performance.  Consider joining all columns at once using pd.concat(axis=1) instead. To get a de-fragmented frame, use `newframe = frame.copy()`\n",
      "  df[[col + '_norm' for col in numeric_columns]] = scaler.fit_transform(df[numeric_columns])\n"
     ]
    }
   ],
   "source": [
    "# Normalize\n",
    "from sklearn.preprocessing import MinMaxScaler\n",
    "\n",
    "# Select numerical columns\n",
    "numeric_columns = df.select_dtypes(include=['float64', 'int64']).columns\n",
    "\n",
    "# Initialize the MinMaxScaler\n",
    "scaler = MinMaxScaler()\n",
    "\n",
    "# Apply scaling and add columns with '_norm' suffix to the DataFrame\n",
    "df[[col + '_norm' for col in numeric_columns]] = scaler.fit_transform(df[numeric_columns])\n",
    "\n",
    "# Display the updated DataFrame to confirm new normalized columns\n",
    "print(df.head())"
   ]
  },
  {
   "cell_type": "code",
   "execution_count": 9,
   "metadata": {},
   "outputs": [],
   "source": [
    "\n",
    "# #overview (Text Vectorization)\n",
    "\n",
    "\n",
    "# # FOR OVERVIEW COLUMN \n",
    "# from sklearn.feature_extraction.text import TfidfVectorizer\n",
    "\n",
    "# # Apply TF-IDF\n",
    "# tfidf_vectorizer = TfidfVectorizer(max_features=500)  # Adjust `max_features` as needed\n",
    "# overview_tfidf = tfidf_vectorizer.fit_transform(X['overview'].fillna('')).toarray()\n",
    "\n",
    "# # Create a DataFrame from TF-IDF features and merge it\n",
    "# overview_tfidf_df = pd.DataFrame(overview_tfidf, columns=tfidf_vectorizer.get_feature_names_out())\n",
    "# X = pd.concat([X.reset_index(drop=True), overview_tfidf_df.reset_index(drop=True)], axis=1)\n",
    "\n",
    "# # Drop the original 'overview' column\n",
    "# X = X.drop('overview', axis=1)\n",
    "\n"
   ]
  },
  {
   "cell_type": "code",
   "execution_count": 10,
   "metadata": {},
   "outputs": [],
   "source": [
    "#created_by, networks, origin_country, production_companies (Top-N One-Hot Encoding)\n",
    "#For columns with many unique values, focus on the top N most frequent categories to avoid excessive dimensionality.\n",
    "\n",
    "# Select top N most frequent categories for each column\n",
    "top_n = 10\n",
    "for col in ['created_by', 'networks', 'origin_country', 'production_companies']:\n",
    "    top_categories = X[col].value_counts().head(top_n).index\n",
    "    for category in top_categories:\n",
    "        X[f'{col}_{category}'] = (X[col] == category).astype(int)\n",
    "    X = X.drop(col, axis=1)  # Drop original column\n",
    "\n"
   ]
  },
  {
   "cell_type": "code",
   "execution_count": null,
   "metadata": {},
   "outputs": [],
   "source": [
    "#Split the Data\n",
    "#Split the data into training and testing sets to evaluate the model’s performance.\n",
    "\n",
    "\n",
    "from sklearn.model_selection import train_test_split\n",
    "import xgboost as xgb\n",
    "\n",
    "# Define target (y) and features (X)\n",
    "y = df[\"popularity\"]\n",
    "X_train, X_test, y_train, y_test = train_test_split(X, y, test_size=0.2, random_state=42)\n",
    "\n",
    "# Initialize and train the XGBoost model\n",
    "xgb_regressor = xgb.XGBRegressor(objective=\"reg:squarederror\", random_state=42)\n",
    "xgb_regressor.fit(X_train, y_train)\n",
    "\n"
   ]
  },
  {
   "cell_type": "code",
   "execution_count": 11,
   "metadata": {},
   "outputs": [],
   "source": [
    "#handle missing values, if any are left:\n",
    "X = X.fillna(0)  # Replace NaN with 0 for numeric features\n"
   ]
  },
  {
   "cell_type": "code",
   "execution_count": 12,
   "metadata": {},
   "outputs": [
    {
     "name": "stdout",
     "output_type": "stream",
     "text": [
      "number_of_seasons                                 int64\n",
      "number_of_episodes                                int64\n",
      "vote_count                                        int64\n",
      "vote_average                                    float64\n",
      "adult                                              bool\n",
      "                                                 ...   \n",
      "production_companies_TV 2                         int64\n",
      "production_companies_Televisa                     int64\n",
      "production_companies_Česká televize               int64\n",
      "production_companies_GMA Entertainment Group      int64\n",
      "production_companies_ATV Enterprises Limited      int64\n",
      "Length: 662, dtype: object\n"
     ]
    }
   ],
   "source": [
    "print(X.dtypes)\n"
   ]
  },
  {
   "cell_type": "code",
   "execution_count": 13,
   "metadata": {},
   "outputs": [],
   "source": [
    "#Split the data into training and test sets:\n",
    "\n",
    "from sklearn.model_selection import train_test_split\n",
    "\n",
    "y = df[\"popularity\"]  # Target variable\n",
    "X_train, X_test, y_train, y_test = train_test_split(X, y, test_size=0.2, random_state=42)\n"
   ]
  },
  {
   "cell_type": "code",
   "execution_count": 14,
   "metadata": {},
   "outputs": [
    {
     "data": {
      "text/html": [
       "<style>#sk-container-id-1 {color: black;}#sk-container-id-1 pre{padding: 0;}#sk-container-id-1 div.sk-toggleable {background-color: white;}#sk-container-id-1 label.sk-toggleable__label {cursor: pointer;display: block;width: 100%;margin-bottom: 0;padding: 0.3em;box-sizing: border-box;text-align: center;}#sk-container-id-1 label.sk-toggleable__label-arrow:before {content: \"▸\";float: left;margin-right: 0.25em;color: #696969;}#sk-container-id-1 label.sk-toggleable__label-arrow:hover:before {color: black;}#sk-container-id-1 div.sk-estimator:hover label.sk-toggleable__label-arrow:before {color: black;}#sk-container-id-1 div.sk-toggleable__content {max-height: 0;max-width: 0;overflow: hidden;text-align: left;background-color: #f0f8ff;}#sk-container-id-1 div.sk-toggleable__content pre {margin: 0.2em;color: black;border-radius: 0.25em;background-color: #f0f8ff;}#sk-container-id-1 input.sk-toggleable__control:checked~div.sk-toggleable__content {max-height: 200px;max-width: 100%;overflow: auto;}#sk-container-id-1 input.sk-toggleable__control:checked~label.sk-toggleable__label-arrow:before {content: \"▾\";}#sk-container-id-1 div.sk-estimator input.sk-toggleable__control:checked~label.sk-toggleable__label {background-color: #d4ebff;}#sk-container-id-1 div.sk-label input.sk-toggleable__control:checked~label.sk-toggleable__label {background-color: #d4ebff;}#sk-container-id-1 input.sk-hidden--visually {border: 0;clip: rect(1px 1px 1px 1px);clip: rect(1px, 1px, 1px, 1px);height: 1px;margin: -1px;overflow: hidden;padding: 0;position: absolute;width: 1px;}#sk-container-id-1 div.sk-estimator {font-family: monospace;background-color: #f0f8ff;border: 1px dotted black;border-radius: 0.25em;box-sizing: border-box;margin-bottom: 0.5em;}#sk-container-id-1 div.sk-estimator:hover {background-color: #d4ebff;}#sk-container-id-1 div.sk-parallel-item::after {content: \"\";width: 100%;border-bottom: 1px solid gray;flex-grow: 1;}#sk-container-id-1 div.sk-label:hover label.sk-toggleable__label {background-color: #d4ebff;}#sk-container-id-1 div.sk-serial::before {content: \"\";position: absolute;border-left: 1px solid gray;box-sizing: border-box;top: 0;bottom: 0;left: 50%;z-index: 0;}#sk-container-id-1 div.sk-serial {display: flex;flex-direction: column;align-items: center;background-color: white;padding-right: 0.2em;padding-left: 0.2em;position: relative;}#sk-container-id-1 div.sk-item {position: relative;z-index: 1;}#sk-container-id-1 div.sk-parallel {display: flex;align-items: stretch;justify-content: center;background-color: white;position: relative;}#sk-container-id-1 div.sk-item::before, #sk-container-id-1 div.sk-parallel-item::before {content: \"\";position: absolute;border-left: 1px solid gray;box-sizing: border-box;top: 0;bottom: 0;left: 50%;z-index: -1;}#sk-container-id-1 div.sk-parallel-item {display: flex;flex-direction: column;z-index: 1;position: relative;background-color: white;}#sk-container-id-1 div.sk-parallel-item:first-child::after {align-self: flex-end;width: 50%;}#sk-container-id-1 div.sk-parallel-item:last-child::after {align-self: flex-start;width: 50%;}#sk-container-id-1 div.sk-parallel-item:only-child::after {width: 0;}#sk-container-id-1 div.sk-dashed-wrapped {border: 1px dashed gray;margin: 0 0.4em 0.5em 0.4em;box-sizing: border-box;padding-bottom: 0.4em;background-color: white;}#sk-container-id-1 div.sk-label label {font-family: monospace;font-weight: bold;display: inline-block;line-height: 1.2em;}#sk-container-id-1 div.sk-label-container {text-align: center;}#sk-container-id-1 div.sk-container {/* jupyter's `normalize.less` sets `[hidden] { display: none; }` but bootstrap.min.css set `[hidden] { display: none !important; }` so we also need the `!important` here to be able to override the default hidden behavior on the sphinx rendered scikit-learn.org. See: https://github.com/scikit-learn/scikit-learn/issues/21755 */display: inline-block !important;position: relative;}#sk-container-id-1 div.sk-text-repr-fallback {display: none;}</style><div id=\"sk-container-id-1\" class=\"sk-top-container\"><div class=\"sk-text-repr-fallback\"><pre>XGBRegressor(base_score=None, booster=None, callbacks=None,\n",
       "             colsample_bylevel=None, colsample_bynode=None,\n",
       "             colsample_bytree=None, device=None, early_stopping_rounds=None,\n",
       "             enable_categorical=False, eval_metric=None, feature_types=None,\n",
       "             gamma=None, grow_policy=None, importance_type=None,\n",
       "             interaction_constraints=None, learning_rate=None, max_bin=None,\n",
       "             max_cat_threshold=None, max_cat_to_onehot=None,\n",
       "             max_delta_step=None, max_depth=None, max_leaves=None,\n",
       "             min_child_weight=None, missing=nan, monotone_constraints=None,\n",
       "             multi_strategy=None, n_estimators=None, n_jobs=None,\n",
       "             num_parallel_tree=None, random_state=42, ...)</pre><b>In a Jupyter environment, please rerun this cell to show the HTML representation or trust the notebook. <br />On GitHub, the HTML representation is unable to render, please try loading this page with nbviewer.org.</b></div><div class=\"sk-container\" hidden><div class=\"sk-item\"><div class=\"sk-estimator sk-toggleable\"><input class=\"sk-toggleable__control sk-hidden--visually\" id=\"sk-estimator-id-1\" type=\"checkbox\" checked><label for=\"sk-estimator-id-1\" class=\"sk-toggleable__label sk-toggleable__label-arrow\">XGBRegressor</label><div class=\"sk-toggleable__content\"><pre>XGBRegressor(base_score=None, booster=None, callbacks=None,\n",
       "             colsample_bylevel=None, colsample_bynode=None,\n",
       "             colsample_bytree=None, device=None, early_stopping_rounds=None,\n",
       "             enable_categorical=False, eval_metric=None, feature_types=None,\n",
       "             gamma=None, grow_policy=None, importance_type=None,\n",
       "             interaction_constraints=None, learning_rate=None, max_bin=None,\n",
       "             max_cat_threshold=None, max_cat_to_onehot=None,\n",
       "             max_delta_step=None, max_depth=None, max_leaves=None,\n",
       "             min_child_weight=None, missing=nan, monotone_constraints=None,\n",
       "             multi_strategy=None, n_estimators=None, n_jobs=None,\n",
       "             num_parallel_tree=None, random_state=42, ...)</pre></div></div></div></div></div>"
      ],
      "text/plain": [
       "XGBRegressor(base_score=None, booster=None, callbacks=None,\n",
       "             colsample_bylevel=None, colsample_bynode=None,\n",
       "             colsample_bytree=None, device=None, early_stopping_rounds=None,\n",
       "             enable_categorical=False, eval_metric=None, feature_types=None,\n",
       "             gamma=None, grow_policy=None, importance_type=None,\n",
       "             interaction_constraints=None, learning_rate=None, max_bin=None,\n",
       "             max_cat_threshold=None, max_cat_to_onehot=None,\n",
       "             max_delta_step=None, max_depth=None, max_leaves=None,\n",
       "             min_child_weight=None, missing=nan, monotone_constraints=None,\n",
       "             multi_strategy=None, n_estimators=None, n_jobs=None,\n",
       "             num_parallel_tree=None, random_state=42, ...)"
      ]
     },
     "execution_count": 14,
     "metadata": {},
     "output_type": "execute_result"
    }
   ],
   "source": [
    "#Train the XGBoost model on the prepared dataset:\n",
    "import xgboost as xgb\n",
    "\n",
    "model = xgb.XGBRegressor(objective=\"reg:squarederror\", random_state=42)\n",
    "model.fit(X_train, y_train)\n"
   ]
  },
  {
   "cell_type": "code",
   "execution_count": 15,
   "metadata": {},
   "outputs": [
    {
     "name": "stdout",
     "output_type": "stream",
     "text": [
      "Mean Absolute Error: 5.26\n",
      "Root Mean Squared Error: 37.51\n"
     ]
    }
   ],
   "source": [
    "#Evaluate our model using metrics such as Mean Absolute Error (MAE) or Root Mean Squared Error (RMSE):\n",
    "from sklearn.metrics import mean_absolute_error, mean_squared_error\n",
    "\n",
    "y_pred = model.predict(X_test)\n",
    "\n",
    "mae = mean_absolute_error(y_test, y_pred)\n",
    "rmse = mean_squared_error(y_test, y_pred, squared=False)\n",
    "\n",
    "print(f\"Mean Absolute Error: {mae:.2f}\")\n",
    "print(f\"Root Mean Squared Error: {rmse:.2f}\")\n"
   ]
  },
  {
   "cell_type": "code",
   "execution_count": 16,
   "metadata": {},
   "outputs": [
    {
     "name": "stdout",
     "output_type": "stream",
     "text": [
      "Min popularity: 0.0, Max popularity: 3707.008\n"
     ]
    }
   ],
   "source": [
    "#Verifying performance: \n",
    "\n",
    "print(f\"Min popularity: {y.min()}, Max popularity: {y.max()}\")\n",
    "\n"
   ]
  },
  {
   "cell_type": "markdown",
   "metadata": {},
   "source": [
    "## Analysis: \n",
    "\n",
    "MAE of 5.26: On average, the predictions are off by 5.26 popularity units, which is 0.14% of the range. This is very low, indicating strong model performance.\n",
    "RMSE of 37.51: The RMSE, while larger, is still only about 1% of the range, meaning the model penalizes some large deviations but overall performs well.\n"
   ]
  },
  {
   "cell_type": "code",
   "execution_count": 17,
   "metadata": {},
   "outputs": [
    {
     "name": "stdout",
     "output_type": "stream",
     "text": [
      "Baseline Mean Absolute Error: 7.90\n",
      "Baseline Root Mean Squared Error: 37.55\n"
     ]
    }
   ],
   "source": [
    "# Calculate Relative Performance (Baseline Comparison)\n",
    "baseline_pred = [y_train.mean()] * len(y_test)  # Always predict the mean of the training set\n",
    "baseline_mae = mean_absolute_error(y_test, baseline_pred)\n",
    "baseline_rmse = mean_squared_error(y_test, baseline_pred, squared=False)\n",
    "\n",
    "print(f\"Baseline Mean Absolute Error: {baseline_mae:.2f}\")\n",
    "print(f\"Baseline Root Mean Squared Error: {baseline_rmse:.2f}\")\n"
   ]
  },
  {
   "cell_type": "markdown",
   "metadata": {},
   "source": [
    "## Conclusion: \n",
    "Good MAE: Our model is better than the baseline in predicting the average popularity, showing clear value.\n",
    "Similar RMSE: There might still be some predictions with large errors. These could be caused by outliers or noise in the dataset."
   ]
  },
  {
   "cell_type": "markdown",
   "metadata": {},
   "source": [
    "## Next Steps...\n",
    "1. Investigate Outliers (in popularity)\n",
    "2. Use Robust Metrics for Model Evaluation - Since RMSE is sensitive to outliers, consider using metrics like Median Absolute Error (MedAE)\n",
    "3. Hyperparameter Tuning? \n",
    "4. Feature Engineering ? "
   ]
  },
  {
   "cell_type": "code",
   "execution_count": 19,
   "metadata": {},
   "outputs": [
    {
     "data": {
      "image/png": "[encoded data removed]",
      "text/plain": [
       "<Figure size 640x480 with 1 Axes>"
      ]
     },
     "metadata": {},
     "output_type": "display_data"
    }
   ],
   "source": [
    "#Next Steps:\n",
    "# 1. Investigate Outliers -> \n",
    "# Transform the target variable (e.g., log transformation).\n",
    "# Cap or remove extreme values.\n",
    "\n",
    "\n",
    "import matplotlib.pyplot as plt\n",
    "import seaborn as sns\n",
    "\n",
    "sns.boxplot(y)\n",
    "plt.title(\"Distribution of Popularity\")\n",
    "plt.show()\n"
   ]
  },
  {
   "cell_type": "code",
   "execution_count": 21,
   "metadata": {},
   "outputs": [
    {
     "name": "stdout",
     "output_type": "stream",
     "text": [
      "Median Absolute Error: 0.77\n"
     ]
    }
   ],
   "source": [
    "#2. Median Absolute Error \n",
    "\n",
    "from sklearn.metrics import median_absolute_error\n",
    "\n",
    "medae = median_absolute_error(y_test, y_pred)\n",
    "print(f\"Median Absolute Error: {medae:.2f}\")\n"
   ]
  },
  {
   "cell_type": "markdown",
   "metadata": {},
   "source": [
    "## Strong Median Performance:\n",
    "\n",
    "With MedAE = 0.77, the typical prediction is off by less than 1 unit, which is excellent relative to your popularity range (0.0 to 3707.008).\n",
    "Possible Presence of Outliers:\n",
    "\n",
    "Since RMSE (37.51) is significantly higher than MedAE (0.77), this suggests some large prediction errors (outliers) are increasing the RMSE.\n",
    "\n",
    "\n"
   ]
  },
  {
   "cell_type": "code",
   "execution_count": 22,
   "metadata": {},
   "outputs": [
    {
     "name": "stdout",
     "output_type": "stream",
     "text": [
      "Number of large errors: 11076\n"
     ]
    }
   ],
   "source": [
    "# Calculate absolute errors\n",
    "errors = abs(y_test - y_pred)\n",
    "\n",
    "# Identify largest errors\n",
    "large_errors = errors[errors > errors.median() * 2]\n",
    "print(\"Number of large errors:\", len(large_errors))\n"
   ]
  },
  {
   "cell_type": "code",
   "execution_count": 23,
   "metadata": {},
   "outputs": [
    {
     "data": {
      "image/png": "[encoded data removed]",
      "text/plain": [
       "<Figure size 640x480 with 1 Axes>"
      ]
     },
     "metadata": {},
     "output_type": "display_data"
    }
   ],
   "source": [
    "import matplotlib.pyplot as plt\n",
    "import seaborn as sns\n",
    "\n",
    "# Calculate absolute errors\n",
    "errors = abs(y_test - y_pred)\n",
    "\n",
    "# Visualize error distribution\n",
    "sns.histplot(errors, bins=50, kde=True)\n",
    "plt.title(\"Error Distribution\")\n",
    "plt.xlabel(\"Absolute Error\")\n",
    "plt.ylabel(\"Frequency\")\n",
    "plt.show()\n"
   ]
  },
  {
   "cell_type": "code",
   "execution_count": 24,
   "metadata": {},
   "outputs": [
    {
     "name": "stdout",
     "output_type": "stream",
     "text": [
      "Number of extreme errors: 3\n",
      "       number_of_seasons  number_of_episodes  vote_count  vote_average  adult  \\\n",
      "94781                  1                  30           0         0.000  False   \n",
      "94057                  1                  30           0         0.000  False   \n",
      "7217                   1                2107          23         4.565  False   \n",
      "\n",
      "       episode_run_time  original_language_ab  original_language_af  \\\n",
      "94781                 0                     0                     0   \n",
      "94057                 0                     0                     0   \n",
      "7217                 22                     0                     0   \n",
      "\n",
      "       original_language_am  original_language_ar  ...  \\\n",
      "94781                     0                     1  ...   \n",
      "94057                     0                     1  ...   \n",
      "7217                      0                     0  ...   \n",
      "\n",
      "       production_companies_TVB  production_companies_BBC  \\\n",
      "94781                         0                         0   \n",
      "94057                         0                         0   \n",
      "7217                          1                         0   \n",
      "\n",
      "       production_companies_Estúdios Globo  production_companies_NHK  \\\n",
      "94781                                    0                         0   \n",
      "94057                                    0                         0   \n",
      "7217                                     0                         0   \n",
      "\n",
      "       production_companies_DR TV  production_companies_TV 2  \\\n",
      "94781                           0                          0   \n",
      "94057                           0                          0   \n",
      "7217                            0                          0   \n",
      "\n",
      "       production_companies_Televisa  production_companies_Česká televize  \\\n",
      "94781                              0                                    0   \n",
      "94057                              0                                    0   \n",
      "7217                               0                                    0   \n",
      "\n",
      "       production_companies_GMA Entertainment Group  \\\n",
      "94781                                             0   \n",
      "94057                                             0   \n",
      "7217                                              0   \n",
      "\n",
      "       production_companies_ATV Enterprises Limited  \n",
      "94781                                             0  \n",
      "94057                                             0  \n",
      "7217                                              0  \n",
      "\n",
      "[3 rows x 662 columns]\n"
     ]
    }
   ],
   "source": [
    "# Identify rows with errors > 2000\n",
    "extreme_errors = errors[errors > 2000]\n",
    "print(f\"Number of extreme errors: {len(extreme_errors)}\")\n",
    "\n",
    "# Examine the data for these rows\n",
    "extreme_error_rows = X_test.loc[extreme_errors.index]\n",
    "print(extreme_error_rows.head())\n"
   ]
  },
  {
   "cell_type": "markdown",
   "metadata": {},
   "source": [
    "## Potential Issues:\n",
    "\n",
    "1. Missing or Zero Values:\n",
    "Zero values for vote_count, vote_average, and episode_run_time might confuse the model, as these features are important predictors for popularity.\n",
    "\n",
    "2. Outlier in number_of_episodes:\n",
    "Row 7217 has an unusually high number_of_episodes (2107), which might be an error or a very rare case."
   ]
  }
 ],
 "metadata": {
  "kernelspec": {
   "display_name": "base",
   "language": "python",
   "name": "python3"
  },
  "language_info": {
   "codemirror_mode": {
    "name": "ipython",
    "version": 3
   },
   "file_extension": ".py",
   "mimetype": "text/x-python",
   "name": "python",
   "nbconvert_exporter": "python",
   "pygments_lexer": "ipython3",
   "version": "3.11.4"
  }
 },
 "nbformat": 4,
 "nbformat_minor": 2
}
