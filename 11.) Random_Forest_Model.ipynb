{
 "cells": [
  {
   "cell_type": "markdown",
   "metadata": {},
   "source": [
    "# Random Forest"
   ]
  },
  {
   "cell_type": "code",
   "execution_count": 5,
   "metadata": {},
   "outputs": [],
   "source": [
    "import pandas as pd\n",
    "import os\n",
    "from IPython.display import display\n",
    "import numpy as np\n",
    "import matplotlib.pyplot as plt\n",
    "import seaborn as sns\n",
    "from sklearn.preprocessing import MinMaxScaler\n",
    "from sklearn.model_selection import train_test_split\n",
    "from sklearn.linear_model import LinearRegression\n",
    "import re\n",
    "import nltk\n",
    "from nltk.corpus import stopwords\n",
    "from nltk.tokenize import word_tokenize\n",
    "from nltk.stem import WordNetLemmatizer"
   ]
  },
  {
   "cell_type": "code",
   "execution_count": 6,
   "metadata": {},
   "outputs": [],
   "source": [
    "TMDB_filename = os.path.join(os.getcwd(), \"TMDB_tv_dataset_v3.csv\")\n",
    "df = pd.read_csv(TMDB_filename)"
   ]
  },
  {
   "cell_type": "code",
   "execution_count": 12,
   "metadata": {},
   "outputs": [],
   "source": [
    "from sklearn.model_selection import train_test_split\n",
    "from sklearn.ensemble import RandomForestRegressor\n",
    "from sklearn.metrics import mean_squared_error, mean_absolute_error, r2_score\n",
    "from sklearn.model_selection import GridSearchCV"
   ]
  },
  {
   "cell_type": "code",
   "execution_count": 13,
   "metadata": {},
   "outputs": [
    {
     "name": "stdout",
     "output_type": "stream",
     "text": [
      "Results with regular dataset, 4 numerical features:\n",
      "Train MAE: 1.0953\n",
      "Train MSE: 5.4330\n",
      "Train R^2: 0.8242\n",
      "Test MAE: 1.7127\n",
      "Test MSE: 12.3445\n",
      "Test R^2: 0.5991\n"
     ]
    }
   ],
   "source": [
    "X = df[['number_of_seasons', 'number_of_episodes', 'vote_count', 'vote_average', 'episode_run_time']]\n",
    "y = df['popularity']\n",
    "\n",
    "# Split data into training and testing sets\n",
    "X_train, X_test, y_train, y_test = train_test_split(X, y, test_size=0.2, random_state=42)\n",
    "\n",
    "# Initialize and train the RandomForestRegressor\n",
    "rf = RandomForestRegressor(n_estimators=100, random_state=42)\n",
    "rf.fit(X_train, y_train)\n",
    "\n",
    "# Predictions on test data\n",
    "rf_predictions_test = rf.predict(X_test)\n",
    "\n",
    "# Predictions on train data\n",
    "rf_predictions_train = rf.predict(X_train)\n",
    "\n",
    "# Calculate evaluation metrics for test set\n",
    "test_mae = mean_absolute_error(y_test, rf_predictions_test)\n",
    "test_mse = mean_squared_error(y_test, rf_predictions_test)\n",
    "test_r2 = r2_score(y_test, rf_predictions_test)\n",
    "\n",
    "# Calculate evaluation metrics for train set\n",
    "train_mae = mean_absolute_error(y_train, rf_predictions_train)\n",
    "train_mse = mean_squared_error(y_train, rf_predictions_train)\n",
    "train_r2 = r2_score(y_train, rf_predictions_train)\n",
    "\n",
    "print(\"Results with regular dataset, 4 numerical features:\")\n",
    "# Print Train set evaluation metrics\n",
    "print(f'Train MAE: {train_mae:.4f}')\n",
    "print(f'Train MSE: {train_mse:.4f}')\n",
    "print(f'Train R^2: {train_r2:.4f}')\n",
    "\n",
    "# Print Test set evaluation metrics\n",
    "print(f'Test MAE: {test_mae:.4f}')\n",
    "print(f'Test MSE: {test_mse:.4f}')\n",
    "print(f'Test R^2: {test_r2:.4f}')"
   ]
  },
  {
   "cell_type": "code",
   "execution_count": 14,
   "metadata": {},
   "outputs": [
    {
     "name": "stdout",
     "output_type": "stream",
     "text": [
      "Results with Log Transformation, 4 features:\n",
      "Train MAE: 0.2227\n",
      "Train MSE: 0.1292\n",
      "Train R^2: 0.7903\n",
      "Test MAE: 0.3047\n",
      "Test MSE: 0.2261\n",
      "Test R^2: 0.6313\n"
     ]
    }
   ],
   "source": [
    "X = df[['number_of_seasons_log', 'number_of_episodes_log', 'vote_count_log', 'vote_average_log', 'episode_run_time']]\n",
    "y = df['popularity_log']\n",
    "\n",
    "# Split data into training and testing sets\n",
    "X_train, X_test, y_train, y_test = train_test_split(X, y, test_size=0.2, random_state=42)\n",
    "\n",
    "# Initialize and train the RandomForestRegressor\n",
    "rf = RandomForestRegressor(n_estimators=100, random_state=42)\n",
    "rf.fit(X_train, y_train)\n",
    "\n",
    "# Predictions on test data\n",
    "rf_predictions_test = rf.predict(X_test)\n",
    "\n",
    "# Predictions on train data\n",
    "rf_predictions_train = rf.predict(X_train)\n",
    "\n",
    "# Calculate evaluation metrics for test set\n",
    "test_mae = mean_absolute_error(y_test, rf_predictions_test)\n",
    "test_mse = mean_squared_error(y_test, rf_predictions_test)\n",
    "test_r2 = r2_score(y_test, rf_predictions_test)\n",
    "\n",
    "# Calculate evaluation metrics for train set\n",
    "train_mae = mean_absolute_error(y_train, rf_predictions_train)\n",
    "train_mse = mean_squared_error(y_train, rf_predictions_train)\n",
    "train_r2 = r2_score(y_train, rf_predictions_train)\n",
    "\n",
    "print(\"Results with Log Transformation, 4 features:\")\n",
    "# Print Train set evaluation metrics\n",
    "print(f'Train MAE: {train_mae:.4f}')\n",
    "print(f'Train MSE: {train_mse:.4f}')\n",
    "print(f'Train R^2: {train_r2:.4f}')\n",
    "\n",
    "# Print Test set evaluation metrics\n",
    "print(f'Test MAE: {test_mae:.4f}')\n",
    "print(f'Test MSE: {test_mse:.4f}')\n",
    "print(f'Test R^2: {test_r2:.4f}')"
   ]
  },
  {
   "cell_type": "code",
   "execution_count": 16,
   "metadata": {},
   "outputs": [
    {
     "name": "stdout",
     "output_type": "stream",
     "text": [
      "Results with Genres Features:\n",
      "Train MAE: 0.8937\n",
      "Train MSE: 3.7112\n",
      "Train R^2: 0.8799\n",
      "Test MAE: 1.6614\n",
      "Test MSE: 11.7101\n",
      "Test R^2: 0.6197\n"
     ]
    }
   ],
   "source": [
    "X = df[['number_of_seasons', 'number_of_episodes', 'vote_count', 'vote_average', \n",
    "        'episode_run_time', 'Action & Adventure', 'Animation', 'Comedy', 'Crime', \n",
    "        'Documentary', 'Drama', 'Family', 'History', 'Kids', 'Music', 'Musical', \n",
    "        'Mystery', 'News', 'Reality', 'Romance', 'Sci-Fi & Fantasy', 'Soap', \n",
    "        'Talk', 'Unknown', 'War & Politics', 'Western']]\n",
    "y = df['popularity']\n",
    "\n",
    "# Split data into training and testing sets\n",
    "X_train, X_test, y_train, y_test = train_test_split(X, y, test_size=0.2, random_state=42)\n",
    "\n",
    "# Initialize and train the RandomForestRegressor\n",
    "rf = RandomForestRegressor(n_estimators=100, random_state=42)\n",
    "rf.fit(X_train, y_train)\n",
    "\n",
    "# Predictions on test data\n",
    "rf_predictions_test = rf.predict(X_test)\n",
    "\n",
    "# Predictions on train data\n",
    "rf_predictions_train = rf.predict(X_train)\n",
    "\n",
    "# Calculate evaluation metrics for test set\n",
    "test_mae = mean_absolute_error(y_test, rf_predictions_test)\n",
    "test_mse = mean_squared_error(y_test, rf_predictions_test)\n",
    "test_r2 = r2_score(y_test, rf_predictions_test)\n",
    "\n",
    "# Calculate evaluation metrics for train set\n",
    "train_mae = mean_absolute_error(y_train, rf_predictions_train)\n",
    "train_mse = mean_squared_error(y_train, rf_predictions_train)\n",
    "train_r2 = r2_score(y_train, rf_predictions_train)\n",
    "\n",
    "print(\"Results with Genres Features:\")\n",
    "# Print Train set evaluation metrics\n",
    "print(f'Train MAE: {train_mae:.4f}')\n",
    "print(f'Train MSE: {train_mse:.4f}')\n",
    "print(f'Train R^2: {train_r2:.4f}')\n",
    "\n",
    "# Print Test set evaluation metrics\n",
    "print(f'Test MAE: {test_mae:.4f}')\n",
    "print(f'Test MSE: {test_mse:.4f}')\n",
    "print(f'Test R^2: {test_r2:.4f}')"
   ]
  },
  {
   "cell_type": "code",
   "execution_count": 17,
   "metadata": {},
   "outputs": [
    {
     "name": "stdout",
     "output_type": "stream",
     "text": [
      "Results with One-Hot Encoded Features:\n",
      "Train MAE: 0.1208\n",
      "Train MSE: 0.0401\n",
      "Train R^2: 0.9348\n",
      "Test MAE: 0.2751\n",
      "Test MSE: 0.1962\n",
      "Test R^2: 0.6800\n"
     ]
    }
   ],
   "source": [
    "X = df[['number_of_seasons_log', 'number_of_episodes_log', 'vote_count_log', \n",
    "        'vote_average_log', 'episode_run_time_log', 'Action & Adventure', \n",
    "        'Animation', 'Comedy', 'Crime', 'Documentary', 'Drama', 'Family', \n",
    "        'History', 'Kids', 'Music', 'Musical', 'Mystery', 'News', 'Reality', \n",
    "        'Romance', 'Sci-Fi & Fantasy', 'Soap', 'Talk', 'Unknown', 'War & Politics', \n",
    "        'Western', 'original-language_en', 'original-language_zh', 'original-language_ja', \n",
    "        'original-language_ko', 'original-language_de', 'original-language_fr', \n",
    "        'original-language_es', 'original-language_pt', 'original-language_ru', \n",
    "        'original-language_nl', 'original-language_ar', 'original-language_da', \n",
    "        'original-language_cn', 'original-language_th', 'original-language_tr', \n",
    "        'original-language_it', 'original-language_hi', 'original-language_sv', \n",
    "        'original-language_cs', 'original-language_no', 'created-by_Shotaro Ishinomori', \n",
    "        'created-by_John de Mol', 'created-by_Adrián Suar', 'created-by_Simon Fuller', \n",
    "        'created-by_Ekta Kapoor', 'created-by_Na Young-seok', 'created-by_Yang Li-Hua', \n",
    "        'created-by_Joseph Barbera, William Hanna', 'created-by_R.J. Nuevas', \n",
    "        'created-by_Mark Burnett', 'networks_BBC One', 'networks_YouTube', \n",
    "        'networks_Netflix', 'networks_ITV1', 'networks_BBC Two', 'networks_ABC', \n",
    "        'networks_NBC', 'networks_TVB Jade', 'networks_CBS', 'networks_Channel 4', \n",
    "        'networks_ZDF', 'origin-country_US', 'origin-country_JP', 'origin-country_GB', \n",
    "        'origin-country_CN', 'origin-country_DE', 'origin-country_KR', 'origin-country_CA', \n",
    "        'origin-country_FR', 'origin-country_AU', 'origin-country_BR', 'origin-country_NL', \n",
    "        'origin-country_RU', 'origin-country_ES', 'origin-country_TH', 'origin-country_HK', \n",
    "        'origin-country_IN', 'origin-country_DK', 'origin-country_PH', 'origin-country_IT', \n",
    "        'origin-country_TR', 'origin-country_SE', 'origin-country_NO', 'origin-country_TW', \n",
    "        'origin-country_BE', 'origin-country_CZ', 'origin-country_MX', 'production-companies_US', \n",
    "        'production-companies_JP', 'production-companies_GB', 'production-companies_CN', \n",
    "        'production-companies_DE', 'production-companies_KR', 'production-companies_CA', \n",
    "        'production-companies_FR', 'production-companies_AU', 'production-companies_BR', \n",
    "        'production-companies_NL', 'production-companies_RU', 'production-companies_ES', \n",
    "        'production-companies_TH', 'production-companies_HK', 'production-companies_IN', \n",
    "        'production-companies_DK', 'production-companies_PH', 'production-companies_IT', \n",
    "        'production-companies_TR', 'production-companies_SE', 'production-companies_NO', \n",
    "        'production-companies_TW', 'production-companies_BE', 'production-companies_CZ', \n",
    "        'production-companies_MX']]\n",
    "y = df['popularity_log']\n",
    "\n",
    "# Split data into training and testing sets\n",
    "X_train, X_test, y_train, y_test = train_test_split(X, y, test_size=0.2, random_state=42)\n",
    "\n",
    "# Initialize and train the RandomForestRegressor\n",
    "rf = RandomForestRegressor(n_estimators=100, random_state=42)\n",
    "rf.fit(X_train, y_train)\n",
    "\n",
    "# Predictions on test data\n",
    "rf_predictions_test = rf.predict(X_test)\n",
    "\n",
    "# Predictions on train data\n",
    "rf_predictions_train = rf.predict(X_train)\n",
    "\n",
    "# Calculate evaluation metrics for test set\n",
    "test_mae = mean_absolute_error(y_test, rf_predictions_test)\n",
    "test_mse = mean_squared_error(y_test, rf_predictions_test)\n",
    "test_r2 = r2_score(y_test, rf_predictions_test)\n",
    "\n",
    "# Calculate evaluation metrics for train set\n",
    "train_mae = mean_absolute_error(y_train, rf_predictions_train)\n",
    "train_mse = mean_squared_error(y_train, rf_predictions_train)\n",
    "train_r2 = r2_score(y_train, rf_predictions_train)\n",
    "\n",
    "print(\"Results with One-Hot Encoded Features:\")\n",
    "# Print Train set evaluation metrics\n",
    "print(f'Train MAE: {train_mae:.4f}')\n",
    "print(f'Train MSE: {train_mse:.4f}')\n",
    "print(f'Train R^2: {train_r2:.4f}')\n",
    "\n",
    "# Print Test set evaluation metrics\n",
    "print(f'Test MAE: {test_mae:.4f}')\n",
    "print(f'Test MSE: {test_mse:.4f}')\n",
    "print(f'Test R^2: {test_r2:.4f}')"
   ]
  }
 ],
 "metadata": {
  "kernelspec": {
   "display_name": "env",
   "language": "python",
   "name": "python3"
  },
  "language_info": {
   "codemirror_mode": {
    "name": "ipython",
    "version": 3
   },
   "file_extension": ".py",
   "mimetype": "text/x-python",
   "name": "python",
   "nbconvert_exporter": "python",
   "pygments_lexer": "ipython3",
   "version": "3.12.4"
  }
 },
 "nbformat": 4,
 "nbformat_minor": 2
}
