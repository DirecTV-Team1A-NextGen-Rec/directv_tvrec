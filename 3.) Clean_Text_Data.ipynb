{
 "cells": [
  {
   "cell_type": "markdown",
   "metadata": {},
   "source": [
    "# Clean Text Data"
   ]
  },
  {
   "cell_type": "code",
   "execution_count": 1,
   "metadata": {},
   "outputs": [],
   "source": [
    "import pandas as pd\n",
    "import os\n",
    "from IPython.display import display\n",
    "import numpy as np\n",
    "import matplotlib.pyplot as plt\n",
    "import seaborn as sns\n",
    "from sklearn.preprocessing import MinMaxScaler\n",
    "from sklearn.model_selection import train_test_split\n",
    "from sklearn.linear_model import LinearRegression\n",
    "\n",
    "import re\n",
    "import nltk\n",
    "from nltk.corpus import stopwords\n",
    "from nltk.tokenize import word_tokenize\n",
    "from nltk.stem import WordNetLemmatizer"
   ]
  },
  {
   "cell_type": "code",
   "execution_count": 2,
   "metadata": {},
   "outputs": [],
   "source": [
    "TMDB_filename = os.path.join(os.getcwd(), \"TMDB_tv_dataset_v3.csv\")\n",
    "df = pd.read_csv(TMDB_filename)"
   ]
  },
  {
   "cell_type": "code",
   "execution_count": 3,
   "metadata": {},
   "outputs": [
    {
     "data": {
      "text/plain": [
       "\"\\nI made some notes on how to get nltk to work on your enviroment, I know that this has worked on VS Code\\non macOS so if that is the enviroment and OS that you are using this should work. I hope it helps!\\n\\nhow to install nltk:\\n1. make sure you are working in a virtual enviroment when working on vs code, also\\nensure you have python installed with the following command:\\npython --version\\n\\n2. on macos, run this command to create the virtual enviroment:\\npython3 -m venv myenv\\n\\n3. then activate the virtual enviroment with this command:\\nsource myenv/bin/activate\\n\\n4. then you can install packages like nltk with this command:\\npip install nltk\\n\\n5. once you have done this, check to see if nltk have been dowloaded with this command:\\npip list\\nnltk should show up in the list\\n\\n6. then in the terminal type in 'python3', then 'import nltk', then nltk.__version__, this will help\\nensure that nltk is installed\\n\\n7. then I ensured I have actually activated the virtual enviroment with this command, this\\nwill be different depending on which directory your enviroment is located:\\nsource /Users/safiaboutaleb/Developer/directv_tvrec/myenv/bin/activate\\n\\n8. then I tried to reinstall the certificates with this command for nltk to finally work:\\n/Applications/Python\\\\ 3.11/Install\\\\ Certificates.command\\n\\nThe following lines of code below here are needed to install the nessesary components of nltk,\\nonce you run this once, you can delete these lines of code because they will have already been installed:\\n\\nnltk.download('punkt')\\nnltk.download('stopwords')\\nnltk.download('wordnet')\\n\\nyt video that helped a bit:\\nhttps://www.youtube.com/watch?v=85Xr0UGR8qQ\\n\""
      ]
     },
     "execution_count": 3,
     "metadata": {},
     "output_type": "execute_result"
    }
   ],
   "source": [
    "'''\n",
    "I made some notes on how to get nltk to work on your enviroment, I know that this has worked on VS Code\n",
    "on macOS so if that is the enviroment and OS that you are using this should work. I hope it helps!\n",
    "\n",
    "how to install nltk:\n",
    "1. make sure you are working in a virtual enviroment when working on vs code, also\n",
    "ensure you have python installed with the following command:\n",
    "python --version\n",
    "\n",
    "2. on macos, run this command to create the virtual enviroment:\n",
    "python3 -m venv myenv\n",
    "\n",
    "3. then activate the virtual enviroment with this command:\n",
    "source myenv/bin/activate\n",
    "\n",
    "4. then you can install packages like nltk with this command:\n",
    "pip install nltk\n",
    "\n",
    "5. once you have done this, check to see if nltk have been dowloaded with this command:\n",
    "pip list\n",
    "nltk should show up in the list\n",
    "\n",
    "6. then in the terminal type in 'python3', then 'import nltk', then nltk.__version__, this will help\n",
    "ensure that nltk is installed\n",
    "\n",
    "7. then I ensured I have actually activated the virtual enviroment with this command, this\n",
    "will be different depending on which directory your enviroment is located:\n",
    "source /Users/safiaboutaleb/Developer/directv_tvrec/myenv/bin/activate\n",
    "\n",
    "8. then I tried to reinstall the certificates with this command for nltk to finally work:\n",
    "/Applications/Python\\ 3.11/Install\\ Certificates.command\n",
    "\n",
    "The following lines of code below here are needed to install the nessesary components of nltk,\n",
    "once you run this once, you can delete these lines of code because they will have already been installed:\n",
    "\n",
    "nltk.download('punkt')\n",
    "nltk.download('stopwords')\n",
    "nltk.download('wordnet')\n",
    "\n",
    "yt video that helped a bit:\n",
    "https://www.youtube.com/watch?v=85Xr0UGR8qQ\n",
    "'''"
   ]
  },
  {
   "cell_type": "code",
   "execution_count": 4,
   "metadata": {},
   "outputs": [
    {
     "name": "stderr",
     "output_type": "stream",
     "text": [
      "[nltk_data] Downloading package punkt to\n",
      "[nltk_data]     /Users/safiaboutaleb/nltk_data...\n",
      "[nltk_data]   Package punkt is already up-to-date!\n",
      "[nltk_data] Downloading package stopwords to\n",
      "[nltk_data]     /Users/safiaboutaleb/nltk_data...\n",
      "[nltk_data]   Package stopwords is already up-to-date!\n",
      "[nltk_data] Downloading package wordnet to\n",
      "[nltk_data]     /Users/safiaboutaleb/nltk_data...\n",
      "[nltk_data]   Package wordnet is already up-to-date!\n"
     ]
    },
    {
     "data": {
      "text/plain": [
       "True"
      ]
     },
     "execution_count": 4,
     "metadata": {},
     "output_type": "execute_result"
    }
   ],
   "source": [
    "nltk.download('punkt')\n",
    "nltk.download('stopwords')\n",
    "nltk.download('wordnet')"
   ]
  },
  {
   "cell_type": "code",
   "execution_count": 5,
   "metadata": {},
   "outputs": [],
   "source": [
    "'''\n",
    "clean text function to convert text to lowercase, remove special characters\n",
    "(punctuation, numbers, etc.), remove stop words, tokenize, and apply lemmatization\n",
    "'''\n",
    "\n",
    "def clean_text(text):\n",
    "  text = text.lower()\n",
    "\n",
    "  text = re.sub(r'[^a-zA-Z\\s]', '', text)\n",
    "\n",
    "  tokens = word_tokenize(text)\n",
    "\n",
    "  stop_words = set(stopwords.words('english'))\n",
    "  tokens = [word for word in tokens if word not in stop_words]\n",
    "\n",
    "  lemmatizer = WordNetLemmatizer()\n",
    "  tokens = [lemmatizer.lemmatize(token) for token in tokens]\n",
    "\n",
    "  cleaned_text = ' '.join(tokens)\n",
    "\n",
    "  return cleaned_text"
   ]
  },
  {
   "cell_type": "code",
   "execution_count": 6,
   "metadata": {},
   "outputs": [],
   "source": [
    "'''\n",
    "now we use the clean_text function on the overview column\n",
    "'''\n",
    "df['cleaned_overview'] = df['overview'].apply(lambda x: clean_text(x) if pd.notnull(x) else '')"
   ]
  },
  {
   "cell_type": "code",
   "execution_count": 7,
   "metadata": {},
   "outputs": [
    {
     "name": "stdout",
     "output_type": "stream",
     "text": [
      "seven noble family fight control mythical land westeros friction house lead fullscale war ancient evil awakens farthest north amidst war neglected military order misfit night watch stand realm men icy horror beyond\n",
      "Seven noble families fight for control of the mythical land of Westeros. Friction between the houses leads to full-scale war. All while a very ancient evil awakens in the farthest north. Amidst the war, a neglected military order of misfits, the Night's Watch, is all that stands between the realms of men and icy horrors beyond.\n"
     ]
    }
   ],
   "source": [
    "print(df['cleaned_overview'][0])\n",
    "print(df['overview'][0])"
   ]
  },
  {
   "cell_type": "code",
   "execution_count": 8,
   "metadata": {},
   "outputs": [],
   "source": [
    "df.to_csv(\"TMDB_tv_dataset_v3.csv\", index=False)"
   ]
  }
 ],
 "metadata": {
  "kernelspec": {
   "display_name": "myenv",
   "language": "python",
   "name": "python3"
  },
  "language_info": {
   "codemirror_mode": {
    "name": "ipython",
    "version": 3
   },
   "file_extension": ".py",
   "mimetype": "text/x-python",
   "name": "python",
   "nbconvert_exporter": "python",
   "pygments_lexer": "ipython3",
   "version": "3.11.5"
  }
 },
 "nbformat": 4,
 "nbformat_minor": 2
}
