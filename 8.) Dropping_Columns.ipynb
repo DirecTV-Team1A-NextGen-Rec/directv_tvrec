{
 "cells": [
  {
   "cell_type": "markdown",
   "metadata": {},
   "source": [
    "# Dropping Columns"
   ]
  },
  {
   "cell_type": "code",
   "execution_count": null,
   "metadata": {},
   "outputs": [],
   "source": [
    "import pandas as pd\n",
    "import os\n",
    "from IPython.display import display\n",
    "import numpy as np\n",
    "import matplotlib.pyplot as plt\n",
    "import seaborn as sns\n",
    "from sklearn.preprocessing import MinMaxScaler\n",
    "from sklearn.model_selection import train_test_split\n",
    "from sklearn.linear_model import LinearRegression\n",
    "\n",
    "import re\n",
    "import nltk\n",
    "from nltk.corpus import stopwords\n",
    "from nltk.tokenize import word_tokenize\n",
    "from nltk.stem import WordNetLemmatizer"
   ]
  },
  {
   "cell_type": "code",
   "execution_count": null,
   "metadata": {},
   "outputs": [],
   "source": [
    "TMDB_filename = os.path.join(os.getcwd(), \"TMDB_tv_dataset_v3.csv\")\n",
    "df = pd.read_csv(TMDB_filename)"
   ]
  },
  {
   "cell_type": "code",
   "execution_count": null,
   "metadata": {},
   "outputs": [],
   "source": [
    "'''\n",
    "List of dropped columns that are not needed\n",
    "* drop 'tagline' because there are 96.8% missing values \n",
    "* drop 'id' since this wont really affect the predictions\n",
    "* drop 'backdrop_path'\n",
    "* homepage\n",
    "* original_name\n",
    "* poster_path\n",
    "* languages\n",
    "* spoken_languages\n",
    "* name\n",
    "'''\n",
    "\n",
    "columns_to_drop = [\n",
    "  'tagline', 'id', 'backdrop_path', 'homepage', \n",
    "  'original_name', 'poster_path', 'languages', \n",
    "  'spoken_languages', 'name', 'first_air_date', \n",
    "  'last_air_date', 'last_air_date_season', 'first_air_date_season', \n",
    "  'in_production', 'production_countries', 'match', 'genres', 'Unknown', 'predicted_genres'\n",
    "]\n",
    "\n",
    "df = df.drop(columns=columns_to_drop, errors='ignore')"
   ]
  },
  {
   "cell_type": "code",
   "execution_count": null,
   "metadata": {},
   "outputs": [],
   "source": [
    "# save data to csv file from all previous changes made to the csv file\n",
    "df.to_csv('TMDB_tv_dataset_v3.csv', index=False)"
   ]
  }
 ],
 "metadata": {
  "kernelspec": {
   "display_name": "myenv",
   "language": "python",
   "name": "python3"
  },
  "language_info": {
   "codemirror_mode": {
    "name": "ipython",
    "version": 3
   },
   "file_extension": ".py",
   "mimetype": "text/x-python",
   "name": "python",
   "nbconvert_exporter": "python",
   "pygments_lexer": "ipython3",
   "version": "3.11.5"
  }
 },
 "nbformat": 4,
 "nbformat_minor": 2
}
