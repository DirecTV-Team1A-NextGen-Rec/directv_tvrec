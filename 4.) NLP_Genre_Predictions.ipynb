{
  "cells": [
    {
      "cell_type": "markdown",
      "metadata": {},
      "source": [
        "# Using NLP (keyword matching) to predict genre from the overview\n",
        "\n",
        "As you can see from the graph below, we have a significant number of missing genre values. So, we will use keyword matching to predict the genre. This is first out of 3 steps - (1) classical NLP, (2) LLM like BERT, (3) using a preexisting LLM API openai or an opensource LLM from HuggingFace "
      ]
    },
    {
      "cell_type": "code",
      "execution_count": null,
      "metadata": {},
      "outputs": [],
      "source": [
        "import pandas as pd\n",
        "import os\n",
        "from IPython.display import display\n",
        "import numpy as np\n",
        "import matplotlib.pyplot as plt\n",
        "import seaborn as sns\n",
        "from sklearn.preprocessing import MinMaxScaler\n",
        "from sklearn.model_selection import train_test_split\n",
        "from sklearn.linear_model import LinearRegression\n",
        "\n",
        "import re\n",
        "import nltk\n",
        "from nltk.corpus import stopwords\n",
        "from nltk.tokenize import word_tokenize\n",
        "from nltk.stem import WordNetLemmatizer"
      ]
    },
    {
      "cell_type": "code",
      "execution_count": null,
      "metadata": {},
      "outputs": [],
      "source": [
        "TMDB_filename = os.path.join(os.getcwd(), \"TMDB_tv_dataset_v3.csv\")\n",
        "df = pd.read_csv(TMDB_filename)"
      ]
    },
    {
      "cell_type": "code",
      "execution_count": null,
      "metadata": {},
      "outputs": [],
      "source": [
        "print(df.isnull().sum())"
      ]
    },
    {
      "cell_type": "markdown",
      "metadata": {},
      "source": [
        "### Loading a spaCy model \n",
        "\n",
        "spaCY provides natural language processing (NLP) functionalities, such as tokenization, stopword removal, and lemmatization"
      ]
    },
    {
      "cell_type": "code",
      "execution_count": null,
      "metadata": {},
      "outputs": [],
      "source": [
        "import spacy\n",
        "\n",
        "# Print the number of missing genres with an available overview\n",
        "missing_genres = df[df['genres'].isnull() & df['overview'].notnull()]\n",
        "print(f\"Missing genre values with an overview: {len(missing_genres)}\")\n",
        "\n",
        "# Load the spaCy model\n",
        "nlp = spacy.load(\"en_core_web_sm\")\n"
      ]
    },
    {
      "cell_type": "markdown",
      "metadata": {},
      "source": [
        "### Preprocessing "
      ]
    },
    {
      "cell_type": "code",
      "execution_count": null,
      "metadata": {},
      "outputs": [],
      "source": [
        "'''\n",
        "# Preprocess function: tokenize, remove stopwords, and lemmatize\n",
        "def preprocess_text(text):\n",
        "    doc = nlp(text)\n",
        "    tokens = [token.lemma_ for token in doc if not token.is_stop and not token.is_punct]\n",
        "    return \" \".join(tokens)\n",
        "\n",
        "# Apply preprocessing to all rows (not just missing genres)\n",
        "df['cleaned_overview'] = df['overview'].apply(preprocess_text)\n",
        "'''"
      ]
    },
    {
      "cell_type": "markdown",
      "metadata": {},
      "source": [
        "### keyword matching "
      ]
    },
    {
      "cell_type": "code",
      "execution_count": null,
      "metadata": {},
      "outputs": [],
      "source": [
        "# Define a dictionary with genres and corresponding keywords\n",
        "# Define a dictionary with genres and corresponding keywords\n",
        "genre_keywords = {\n",
        "    'Action & Adventure': ['fight', 'battle', 'war', 'hero', 'explosion', 'adventure', 'quest', 'journey'],\n",
        "    'Animation': ['animated', 'cartoon', 'drawing', 'anime', 'cgi', 'animation', 'pixar', 'disney'],\n",
        "    'Comedy': ['funny', 'humor', 'comedy', 'joke', 'laugh', 'parody', 'satire', 'hilarious'],\n",
        "    'Crime': ['detective', 'murder', 'police', 'criminal', 'robbery', 'heist', 'gang', 'crime'],\n",
        "    'Documentary': ['documentary', 'true story', 'biography', 'real events', 'non-fiction'],\n",
        "    'Drama': ['drama', 'emotional', 'serious', 'family', 'relationship', 'conflict'],\n",
        "    'Family': ['family', 'kids', 'parent', 'children', 'home', 'love', 'domestic'],\n",
        "    'History': ['historical', 'past', 'medieval', 'war', 'ancient', 'empire', 'revolution'],\n",
        "    'Kids': ['children', 'kids', 'young', 'fun', 'adventure', 'family'],\n",
        "    'Music': ['music', 'band', 'singer', 'song', 'concert', 'performance'],\n",
        "    'Musical': ['musical', 'song', 'dance', 'performance', 'broadway', 'theatre', 'show'],\n",
        "    'Mystery': ['mystery', 'detective', 'crime', 'whodunit', 'puzzle', 'clue', 'suspense'],\n",
        "    'News': ['news', 'breaking', 'headline', 'report', 'journalist', 'anchor', 'current events'],\n",
        "    'Reality': ['reality', 'real life', 'contest', 'competition', 'unscripted', 'reality show'],\n",
        "    'Romance': ['love', 'romantic', 'relationship', 'heart', 'affair', 'couple'],\n",
        "    'Sci-Fi & Fantasy': ['space', 'alien', 'robot', 'futuristic', 'time travel', 'fantasy', 'magic', 'dragon'],\n",
        "    'Soap': ['soap opera', 'drama', 'romance', 'affairs', 'family', 'betrayal', 'melodrama'],\n",
        "    'Talk': ['talk show', 'interview', 'discussion', 'host', 'celebrity', 'guest', 'panel'],\n",
        "    'Unknown': ['unknown', 'undefined', 'not classified', 'unidentified', 'other'],\n",
        "    'War & Politics': ['war', 'battle', 'soldier', 'politics', 'government', 'military', 'conflict', 'revolution'],\n",
        "    'Western': ['cowboy', 'western', 'sheriff', 'outlaw', 'desert', 'gunfight', 'frontier', 'wild west']\n",
        "}\n",
        "\n",
        "#having multiple genres - what to do? \n",
        "'''\n",
        "# Function to assign genre based on keywords\n",
        "def assign_genre(text):\n",
        "    for genre, keywords in genre_keywords.items():\n",
        "        for keyword in keywords:\n",
        "            if keyword in text:\n",
        "                return genre\n",
        "    return 'Unknown'  # If no match is found\n",
        "'''"
      ]
    },
    {
      "cell_type": "code",
      "execution_count": null,
      "metadata": {},
      "outputs": [],
      "source": [
        "# Modify the function to allow multiple genres and handle NaN values\n",
        "def assign_genres(text):\n",
        "    if pd.isna(text):  # Check if the text is NaN\n",
        "        return ['Unknown']  # Return 'Unknown' for NaN values\n",
        "    \n",
        "    matched_genres = []\n",
        "    for genre, keywords in genre_keywords.items():\n",
        "        if any(keyword in text for keyword in keywords):\n",
        "            matched_genres.append(genre)\n",
        "    return matched_genres if matched_genres else ['Unknown']  # Return 'Unknown' if no genre matches\n",
        "\n",
        "# Apply the function and join predicted genres with commas\n",
        "df['predicted_genres'] = df['cleaned_overview'].apply(assign_genres)\n",
        "\n",
        "# Fill missing genre values with the predicted genres, joined by commas\n",
        "df['genres'] = df['genres'].fillna(df['predicted_genres'].apply(lambda x: ', '.join(x)))\n",
        "\n",
        "# Save the updated DataFrame to a new CSV file\n",
        "df.to_csv('updated_dataset_with_multigenre.csv', index=False)\n",
        "\n",
        "# Check the final few rows to see how genres have been filled\n",
        "print(df[['overview', 'genres', 'predicted_genres']].tail())\n"
      ]
    },
    {
      "cell_type": "markdown",
      "metadata": {},
      "source": [
        "### Applying the Function & Calculating Accuracy "
      ]
    },
    {
      "cell_type": "code",
      "execution_count": null,
      "metadata": {},
      "outputs": [],
      "source": [
        "'''\n",
        "# Apply preprocessing to all rows (not just missing genres)\n",
        "df['cleaned_overview'] = df['overview'].apply(preprocess_text)\n",
        "'''\n",
        "\n",
        "# Predict genres for all rows (even the ones that already have genres)\n",
        "df['predicted_genres'] = df['cleaned_overview'].apply(assign_genres)\n",
        "\n",
        "# Check how many predicted genres match the actual genres\n",
        "df['match'] = df['genres'] == df['predicted_genres']\n",
        "\n",
        "# Calculate the accuracy for rows where the actual genre exists\n",
        "accuracy = df[df['genres'].notnull()]['match'].mean()\n",
        "print(f\"Prediction accuracy: {accuracy * 100:.2f}%\")\n"
      ]
    },
    {
      "cell_type": "code",
      "execution_count": null,
      "metadata": {},
      "outputs": [],
      "source": [
        "#Next Step: Finetuning \n",
        "#Adjust Keywords as needed based on accuracy "
      ]
    },
    {
      "cell_type": "markdown",
      "metadata": {},
      "source": [
        "### Fill missing genres and save "
      ]
    },
    {
      "cell_type": "code",
      "execution_count": null,
      "metadata": {},
      "outputs": [],
      "source": [
        "# Only fill missing genre values with the predicted genre\n",
        "df['genres'] = df['genres'].fillna(df['predicted_genres'])\n",
        "\n",
        "# Save the updated dataframe to a new CSV file\n",
        "df.to_csv('updated_dataset.csv', index=False)\n",
        "\n",
        "# Check the final few rows to see if genres have been filled\n",
        "print(df[['overview', 'genres', 'predicted_genres']].tail())\n"
      ]
    }
  ],
  "metadata": {
    "colab": {
      "provenance": []
    },
    "kernelspec": {
      "display_name": "Python 3",
      "name": "python3"
    },
    "language_info": {
      "codemirror_mode": {
        "name": "ipython",
        "version": 3
      },
      "file_extension": ".py",
      "mimetype": "text/x-python",
      "name": "python",
      "nbconvert_exporter": "python",
      "pygments_lexer": "ipython3",
      "version": "3.11.5"
    }
  },
  "nbformat": 4,
  "nbformat_minor": 0
}
