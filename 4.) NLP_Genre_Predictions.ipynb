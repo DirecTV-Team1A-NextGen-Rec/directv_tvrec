{
  "cells": [
    {
      "cell_type": "markdown",
      "metadata": {},
      "source": [
        "# Using NLP (keyword matching) to predict genre from the overview\n",
        "\n",
        "As you can see from the graph below, we have a significant number of missing genre values. So, we will use keyword matching to predict the genre. This is first out of 3 steps - (1) classical NLP, (2) LLM like BERT, (3) using a preexisting LLM API openai or an opensource LLM from HuggingFace "
      ]
    },
    {
      "cell_type": "code",
      "execution_count": 1,
      "metadata": {},
      "outputs": [],
      "source": [
        "import pandas as pd\n",
        "import os\n",
        "from IPython.display import display\n",
        "import numpy as np\n",
        "import matplotlib.pyplot as plt\n",
        "import seaborn as sns\n",
        "from sklearn.preprocessing import MinMaxScaler\n",
        "from sklearn.model_selection import train_test_split\n",
        "from sklearn.linear_model import LinearRegression\n",
        "\n",
        "import re\n",
        "import nltk\n",
        "from nltk.corpus import stopwords\n",
        "from nltk.tokenize import word_tokenize\n",
        "from nltk.stem import WordNetLemmatizer"
      ]
    },
    {
      "cell_type": "code",
      "execution_count": 2,
      "metadata": {},
      "outputs": [],
      "source": [
        "TMDB_filename = os.path.join(os.getcwd(), \"TMDB_tv_dataset_v3.csv\")\n",
        "df = pd.read_csv(TMDB_filename)"
      ]
    },
    {
      "cell_type": "code",
      "execution_count": 3,
      "metadata": {},
      "outputs": [
        {
          "name": "stdout",
          "output_type": "stream",
          "text": [
            "id                           0\n",
            "name                         5\n",
            "number_of_seasons            0\n",
            "number_of_episodes           0\n",
            "original_language            0\n",
            "vote_count                   0\n",
            "vote_average                 0\n",
            "overview                 75306\n",
            "adult                        0\n",
            "backdrop_path            90859\n",
            "first_air_date           31736\n",
            "last_air_date            29904\n",
            "homepage                117641\n",
            "in_production                0\n",
            "original_name                5\n",
            "popularity                   0\n",
            "poster_path              59902\n",
            "type                         0\n",
            "status                       0\n",
            "tagline                 163309\n",
            "genres                   68926\n",
            "created_by              132143\n",
            "languages                58589\n",
            "networks                 71050\n",
            "origin_country           31030\n",
            "spoken_languages         59359\n",
            "production_companies    109297\n",
            "production_countries     91128\n",
            "episode_run_time             0\n",
            "cleaned_overview         75386\n",
            "dtype: int64\n"
          ]
        }
      ],
      "source": [
        "print(df.isnull().sum())"
      ]
    },
    {
      "cell_type": "markdown",
      "metadata": {},
      "source": [
        "### Loading a spaCy model \n",
        "\n",
        "spaCY provides natural language processing (NLP) functionalities, such as tokenization, stopword removal, and lemmatization"
      ]
    },
    {
      "cell_type": "code",
      "execution_count": 4,
      "metadata": {},
      "outputs": [
        {
          "data": {
            "text/plain": [
              "'\\nimport spacy\\n\\n# Print the number of missing genres with an available overview\\nmissing_genres = df[df[\\'genres\\'].isnull() & df[\\'overview\\'].notnull()]\\nprint(f\"Missing genre values with an overview: {len(missing_genres)}\")\\n\\n# Load the spaCy model\\nnlp = spacy.load(\"en_core_web_sm\")\\n'"
            ]
          },
          "execution_count": 4,
          "metadata": {},
          "output_type": "execute_result"
        }
      ],
      "source": [
        "'''\n",
        "import spacy\n",
        "\n",
        "# Print the number of missing genres with an available overview\n",
        "missing_genres = df[df['genres'].isnull() & df['overview'].notnull()]\n",
        "print(f\"Missing genre values with an overview: {len(missing_genres)}\")\n",
        "\n",
        "# Load the spaCy model\n",
        "nlp = spacy.load(\"en_core_web_sm\")\n",
        "'''"
      ]
    },
    {
      "cell_type": "markdown",
      "metadata": {},
      "source": [
        "### Preprocessing "
      ]
    },
    {
      "cell_type": "code",
      "execution_count": 5,
      "metadata": {},
      "outputs": [
        {
          "data": {
            "text/plain": [
              "'\\n# Preprocess function: tokenize, remove stopwords, and lemmatize\\ndef preprocess_text(text):\\n    doc = nlp(text)\\n    tokens = [token.lemma_ for token in doc if not token.is_stop and not token.is_punct]\\n    return \" \".join(tokens)\\n\\n# Apply preprocessing to all rows (not just missing genres)\\ndf[\\'cleaned_overview\\'] = df[\\'overview\\'].apply(preprocess_text)\\n'"
            ]
          },
          "execution_count": 5,
          "metadata": {},
          "output_type": "execute_result"
        }
      ],
      "source": [
        "'''\n",
        "# Preprocess function: tokenize, remove stopwords, and lemmatize\n",
        "def preprocess_text(text):\n",
        "    doc = nlp(text)\n",
        "    tokens = [token.lemma_ for token in doc if not token.is_stop and not token.is_punct]\n",
        "    return \" \".join(tokens)\n",
        "\n",
        "# Apply preprocessing to all rows (not just missing genres)\n",
        "df['cleaned_overview'] = df['overview'].apply(preprocess_text)\n",
        "'''"
      ]
    },
    {
      "cell_type": "markdown",
      "metadata": {},
      "source": [
        "### keyword matching "
      ]
    },
    {
      "cell_type": "code",
      "execution_count": 6,
      "metadata": {},
      "outputs": [],
      "source": [
        "# Define a dictionary with genres and corresponding keywords\n",
        "# Define a dictionary with genres and corresponding keywords\n",
        "genre_keywords = {\n",
        "    'Action & Adventure': ['fight', 'battle', 'war', 'hero', 'explosion', 'adventure', 'quest', 'journey'],\n",
        "    'Animation': ['animate', 'cartoon', 'draw', 'anime', 'cgi', 'animate', 'pixar', 'disney'],\n",
        "    'Comedy': ['funny', 'humor', 'comedy', 'joke', 'laugh', 'parody', 'satire', 'hilarious'],\n",
        "    'Crime': ['detective', 'murder', 'police', 'criminal', 'robbery', 'heist', 'gang', 'crime'],\n",
        "    'Documentary': ['documentary', 'true story', 'biography', 'real event', 'non-fiction'],\n",
        "    'Drama': ['drama', 'emotional', 'serious', 'family', 'relationship', 'conflict'],\n",
        "    'Family': ['family', 'kid', 'parent', 'child', 'home', 'love', 'domestic'],\n",
        "    'History': ['historical', 'past', 'medieval', 'war', 'ancient', 'empire', 'revolution'],\n",
        "    'Kids': ['child', 'kid', 'young', 'fun', 'adventure', 'family'],\n",
        "    'Music': ['music', 'band', 'singer', 'song', 'concert', 'performance'],\n",
        "    'Musical': ['musical', 'song', 'dance', 'performance', 'broadway', 'theatre', 'show'],\n",
        "    'Mystery': ['mystery', 'detective', 'crime', 'whodunit', 'puzzle', 'clue', 'suspense'],\n",
        "    'News': ['news', 'breaking', 'headline', 'report', 'journalist', 'anchor', 'current event'],\n",
        "    'Reality': ['reality', 'real life', 'contest', 'competition', 'unscripted', 'reality show'],\n",
        "    'Romance': ['love', 'romantic', 'relationship', 'heart', 'affair', 'couple'],\n",
        "    'Sci-Fi & Fantasy': ['space', 'alien', 'robot', 'futuristic', 'time travel', 'fantasy', 'magic', 'dragon'],\n",
        "    'Soap': ['soap opera', 'drama', 'romance', 'affair', 'family', 'betrayal', 'melodrama'],\n",
        "    'Talk': ['talk show', 'interview', 'discussion', 'host', 'celebrity', 'guest', 'panel'],\n",
        "    'Unknown': ['unknown', 'undefined', 'not classified', 'unidentified', 'other'],\n",
        "    'War & Politics': ['war', 'battle', 'soldier', 'politics', 'government', 'military', 'conflict', 'revolution'],\n",
        "    'Western': ['cowboy', 'western', 'sheriff', 'outlaw', 'desert', 'gunfight', 'frontier', 'wild west']\n",
        "}\n",
        "\n",
        "#having multiple genres - what to do? \n",
        "\n",
        "# Function to assign genre based on keywords\n",
        "def assign_genre(text):\n",
        "    if isinstance(text, str):  \n",
        "        for genre, keywords in genre_keywords.items():\n",
        "            for keyword in keywords:\n",
        "                if keyword in text:\n",
        "                    return genre\n",
        "    return 'Unknown'  # If no match is found"
      ]
    },
    {
      "cell_type": "markdown",
      "metadata": {},
      "source": [
        "### Applying the Function & Calculating Accuracy "
      ]
    },
    {
      "cell_type": "code",
      "execution_count": 7,
      "metadata": {},
      "outputs": [
        {
          "name": "stdout",
          "output_type": "stream",
          "text": [
            "Prediction accuracy: 7.62%\n"
          ]
        }
      ],
      "source": [
        "# Predict genres for all rows (even the ones that already have genres)\n",
        "df['predicted_genres'] = df['cleaned_overview'].apply(assign_genre)\n",
        "\n",
        "# Check how many predicted genres match the actual genres\n",
        "df['match'] = df['genres'] == df['predicted_genres']\n",
        "\n",
        "# Calculate the accuracy for rows where the actual genre exists\n",
        "accuracy = df[df['genres'].notnull()]['match'].mean()\n",
        "print(f\"Prediction accuracy: {accuracy * 100:.2f}%\")"
      ]
    },
    {
      "cell_type": "code",
      "execution_count": 8,
      "metadata": {},
      "outputs": [
        {
          "data": {
            "text/plain": [
              "Index(['id', 'name', 'number_of_seasons', 'number_of_episodes',\n",
              "       'original_language', 'vote_count', 'vote_average', 'overview', 'adult',\n",
              "       'backdrop_path', 'first_air_date', 'last_air_date', 'homepage',\n",
              "       'in_production', 'original_name', 'popularity', 'poster_path', 'type',\n",
              "       'status', 'tagline', 'genres', 'created_by', 'languages', 'networks',\n",
              "       'origin_country', 'spoken_languages', 'production_companies',\n",
              "       'production_countries', 'episode_run_time', 'cleaned_overview',\n",
              "       'predicted_genres', 'match'],\n",
              "      dtype='object')"
            ]
          },
          "execution_count": 8,
          "metadata": {},
          "output_type": "execute_result"
        }
      ],
      "source": [
        "df.columns"
      ]
    },
    {
      "cell_type": "code",
      "execution_count": 9,
      "metadata": {},
      "outputs": [],
      "source": [
        "#Next Step: Finetuning \n",
        "#Adjust Keywords as needed based on accuracy "
      ]
    },
    {
      "cell_type": "markdown",
      "metadata": {},
      "source": [
        "### Fill missing genres and save "
      ]
    },
    {
      "cell_type": "code",
      "execution_count": 10,
      "metadata": {},
      "outputs": [
        {
          "name": "stdout",
          "output_type": "stream",
          "text": [
            "                                                 overview   genres  \\\n",
            "168634                                                NaN  Unknown   \n",
            "168635                                                NaN  Unknown   \n",
            "168636  Murder, art and a journalist's relentless ques...    Crime   \n",
            "168637  A college student gets into trouble when she m...  Unknown   \n",
            "168638                 Short-lives series on Youtube Red.  Unknown   \n",
            "\n",
            "          predicted_genres  \n",
            "168634             Unknown  \n",
            "168635             Unknown  \n",
            "168636  Action & Adventure  \n",
            "168637             Unknown  \n",
            "168638             Unknown  \n"
          ]
        }
      ],
      "source": [
        "# Only fill missing genre values with the predicted genre\n",
        "df['genres'] = df['genres'].fillna(df['predicted_genres'])\n",
        "\n",
        "# Save the updated dataframe to a new CSV file\n",
        "df.to_csv(\"TMDB_tv_dataset_v3.csv\", index=False)\n",
        "\n",
        "# Check the final few rows to see if genres have been filled\n",
        "print(df[['overview', 'genres', 'predicted_genres']].tail())\n"
      ]
    }
  ],
  "metadata": {
    "colab": {
      "provenance": []
    },
    "kernelspec": {
      "display_name": "Python 3",
      "name": "python3"
    },
    "language_info": {
      "codemirror_mode": {
        "name": "ipython",
        "version": 3
      },
      "file_extension": ".py",
      "mimetype": "text/x-python",
      "name": "python",
      "nbconvert_exporter": "python",
      "pygments_lexer": "ipython3",
      "version": "3.11.5"
    }
  },
  "nbformat": 4,
  "nbformat_minor": 0
}
