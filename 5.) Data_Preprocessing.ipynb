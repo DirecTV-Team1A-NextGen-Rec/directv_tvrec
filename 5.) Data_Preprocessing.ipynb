{
 "cells": [
  {
   "cell_type": "markdown",
   "metadata": {
    "id": "kMHO36bQntgL"
   },
   "source": [
    "# Data Preprocessing"
   ]
  },
  {
   "cell_type": "markdown",
   "metadata": {
    "id": "By72rPZ_n0Zl"
   },
   "source": [
    "### Handle Missing Values  "
   ]
  },
  {
   "cell_type": "code",
   "execution_count": 1,
   "metadata": {},
   "outputs": [],
   "source": [
    "import pandas as pd\n",
    "import os\n",
    "from IPython.display import display\n",
    "import numpy as np\n",
    "import matplotlib.pyplot as plt\n",
    "import seaborn as sns\n",
    "from sklearn.preprocessing import MinMaxScaler\n",
    "from sklearn.model_selection import train_test_split\n",
    "from sklearn.linear_model import LinearRegression\n",
    "\n",
    "import re\n",
    "import nltk\n",
    "from nltk.corpus import stopwords\n",
    "from nltk.tokenize import word_tokenize\n",
    "from nltk.stem import WordNetLemmatizer"
   ]
  },
  {
   "cell_type": "code",
   "execution_count": 2,
   "metadata": {},
   "outputs": [],
   "source": [
    "TMDB_filename = os.path.join(os.getcwd(), \"TMDB_tv_dataset_v3.csv\")\n",
    "df = pd.read_csv(TMDB_filename)"
   ]
  },
  {
   "cell_type": "code",
   "execution_count": 3,
   "metadata": {
    "colab": {
     "base_uri": "https://localhost:8080/"
    },
    "id": "Y-enK6ionv7t",
    "outputId": "16f40b04-cab4-4bad-c0aa-18f5b85c6282"
   },
   "outputs": [
    {
     "name": "stdout",
     "output_type": "stream",
     "text": [
      "<class 'pandas.core.frame.DataFrame'>\n",
      "RangeIndex: 168639 entries, 0 to 168638\n",
      "Data columns (total 30 columns):\n",
      " #   Column                Non-Null Count   Dtype  \n",
      "---  ------                --------------   -----  \n",
      " 0   id                    168639 non-null  int64  \n",
      " 1   name                  168634 non-null  object \n",
      " 2   number_of_seasons     168639 non-null  int64  \n",
      " 3   number_of_episodes    168639 non-null  int64  \n",
      " 4   original_language     168639 non-null  object \n",
      " 5   vote_count            168639 non-null  int64  \n",
      " 6   vote_average          168639 non-null  float64\n",
      " 7   overview              93333 non-null   object \n",
      " 8   adult                 168639 non-null  bool   \n",
      " 9   backdrop_path         77780 non-null   object \n",
      " 10  first_air_date        136903 non-null  object \n",
      " 11  last_air_date         138735 non-null  object \n",
      " 12  homepage              50998 non-null   object \n",
      " 13  in_production         168639 non-null  bool   \n",
      " 14  original_name         168634 non-null  object \n",
      " 15  popularity            168639 non-null  float64\n",
      " 16  poster_path           108737 non-null  object \n",
      " 17  type                  168639 non-null  object \n",
      " 18  status                168639 non-null  object \n",
      " 19  tagline               5330 non-null    object \n",
      " 20  genres                99713 non-null   object \n",
      " 21  created_by            36496 non-null   object \n",
      " 22  languages             110050 non-null  object \n",
      " 23  networks              97589 non-null   object \n",
      " 24  origin_country        137609 non-null  object \n",
      " 25  spoken_languages      109280 non-null  object \n",
      " 26  production_companies  59342 non-null   object \n",
      " 27  production_countries  77511 non-null   object \n",
      " 28  episode_run_time      168639 non-null  int64  \n",
      " 29  cleaned_overview      93253 non-null   object \n",
      "dtypes: bool(2), float64(2), int64(5), object(21)\n",
      "memory usage: 36.3+ MB\n",
      "None\n"
     ]
    }
   ],
   "source": [
    "# Inspect the structure of the data\n",
    "print(df.info())"
   ]
  },
  {
   "cell_type": "code",
   "execution_count": 4,
   "metadata": {
    "colab": {
     "base_uri": "https://localhost:8080/"
    },
    "id": "GoPxeURXrUCQ",
    "outputId": "49da4b4f-f425-4936-e685-621450516ffd"
   },
   "outputs": [
    {
     "name": "stdout",
     "output_type": "stream",
     "text": [
      "id                           0\n",
      "name                         5\n",
      "number_of_seasons            0\n",
      "number_of_episodes           0\n",
      "original_language            0\n",
      "vote_count                   0\n",
      "vote_average                 0\n",
      "overview                 75306\n",
      "adult                        0\n",
      "backdrop_path            90859\n",
      "first_air_date           31736\n",
      "last_air_date            29904\n",
      "homepage                117641\n",
      "in_production                0\n",
      "original_name                5\n",
      "popularity                   0\n",
      "poster_path              59902\n",
      "type                         0\n",
      "status                       0\n",
      "tagline                 163309\n",
      "genres                   68926\n",
      "created_by              132143\n",
      "languages                58589\n",
      "networks                 71050\n",
      "origin_country           31030\n",
      "spoken_languages         59359\n",
      "production_companies    109297\n",
      "production_countries     91128\n",
      "episode_run_time             0\n",
      "cleaned_overview         75386\n",
      "dtype: int64\n"
     ]
    }
   ],
   "source": [
    "# Check for missing values\n",
    "print(df.isnull().sum())"
   ]
  },
  {
   "cell_type": "code",
   "execution_count": 5,
   "metadata": {
    "colab": {
     "base_uri": "https://localhost:8080/"
    },
    "id": "9BTc6HuVrVbT",
    "outputId": "3f3ce234-8177-4189-e659-d0df113fda70"
   },
   "outputs": [
    {
     "name": "stdout",
     "output_type": "stream",
     "text": [
      "id                        int64\n",
      "name                     object\n",
      "number_of_seasons         int64\n",
      "number_of_episodes        int64\n",
      "original_language        object\n",
      "vote_count                int64\n",
      "vote_average            float64\n",
      "overview                 object\n",
      "adult                      bool\n",
      "backdrop_path            object\n",
      "first_air_date           object\n",
      "last_air_date            object\n",
      "homepage                 object\n",
      "in_production              bool\n",
      "original_name            object\n",
      "popularity              float64\n",
      "poster_path              object\n",
      "type                     object\n",
      "status                   object\n",
      "tagline                  object\n",
      "genres                   object\n",
      "created_by               object\n",
      "languages                object\n",
      "networks                 object\n",
      "origin_country           object\n",
      "spoken_languages         object\n",
      "production_companies     object\n",
      "production_countries     object\n",
      "episode_run_time          int64\n",
      "cleaned_overview         object\n",
      "dtype: object\n"
     ]
    }
   ],
   "source": [
    "# Verify the data types of all columns\n",
    "print(df.dtypes)"
   ]
  },
  {
   "cell_type": "code",
   "execution_count": 6,
   "metadata": {
    "id": "dFulnP3LrbmV"
   },
   "outputs": [],
   "source": [
    "# Fill missing values for numerical columns with mean\n",
    "numerical_cols = df.select_dtypes(include=['float64', 'int64']).columns\n",
    "df[numerical_cols] = df[numerical_cols].fillna(df[numerical_cols].mean())"
   ]
  },
  {
   "cell_type": "code",
   "execution_count": 7,
   "metadata": {
    "id": "xqq4xjWwrd3p"
   },
   "outputs": [],
   "source": [
    "'''\n",
    "the changes I made here are that I filter out the 'object' data types and then check to see if it is not the\n",
    "'genres' column. if it is not, then I add it to the 'columns_to_fill\" list. this is because I am labeling\n",
    "shows without a genre as 'Unknown' in the one-hot encoding step. then after that, I apply the mode of the\n",
    "specific column to the missing value for now.\n",
    "'''\n",
    "\n",
    "categorical_cols = df.select_dtypes(include=['object']).columns\n",
    "columns_to_fill = [col for col in categorical_cols if col != 'genres']\n",
    "df[columns_to_fill] = df[columns_to_fill].apply(lambda col: col.fillna(col.mode()[0]))"
   ]
  },
  {
   "cell_type": "code",
   "execution_count": 8,
   "metadata": {
    "colab": {
     "base_uri": "https://localhost:8080/"
    },
    "id": "nw9IKmG6rgdl",
    "outputId": "2bb71ab7-fda5-4a74-921d-49c2adbaa1e7"
   },
   "outputs": [
    {
     "name": "stdout",
     "output_type": "stream",
     "text": [
      "id                          0\n",
      "name                        0\n",
      "number_of_seasons           0\n",
      "number_of_episodes          0\n",
      "original_language           0\n",
      "vote_count                  0\n",
      "vote_average                0\n",
      "overview                    0\n",
      "adult                       0\n",
      "backdrop_path               0\n",
      "first_air_date              0\n",
      "last_air_date               0\n",
      "homepage                    0\n",
      "in_production               0\n",
      "original_name               0\n",
      "popularity                  0\n",
      "poster_path                 0\n",
      "type                        0\n",
      "status                      0\n",
      "tagline                     0\n",
      "genres                  68926\n",
      "created_by                  0\n",
      "languages                   0\n",
      "networks                    0\n",
      "origin_country              0\n",
      "spoken_languages            0\n",
      "production_companies        0\n",
      "production_countries        0\n",
      "episode_run_time            0\n",
      "cleaned_overview            0\n",
      "dtype: int64\n"
     ]
    }
   ],
   "source": [
    "# Verify that there are no missing values\n",
    "print(df.isnull().sum())"
   ]
  },
  {
   "cell_type": "markdown",
   "metadata": {
    "id": "3Yn2zh6tn2nj"
   },
   "source": [
    "### Remove Duplicates  "
   ]
  },
  {
   "cell_type": "markdown",
   "metadata": {
    "id": "srKmlG3N0ywy"
   },
   "source": [
    "1,580 rows of data were removed due to it being a duplicate row."
   ]
  },
  {
   "cell_type": "code",
   "execution_count": 9,
   "metadata": {
    "colab": {
     "base_uri": "https://localhost:8080/"
    },
    "id": "LuEC5Gnz1UWb",
    "outputId": "161d886a-1da0-4c86-9717-720cb1a1a636"
   },
   "outputs": [
    {
     "name": "stdout",
     "output_type": "stream",
     "text": [
      "Number of duplicate rows: 1580\n"
     ]
    }
   ],
   "source": [
    "# Check how many duplicates are there\n",
    "num_duplicate_rows = df.duplicated().sum()\n",
    "print(f\"Number of duplicate rows: {num_duplicate_rows}\")"
   ]
  },
  {
   "cell_type": "code",
   "execution_count": 10,
   "metadata": {
    "id": "FPIWTsdW1fhU"
   },
   "outputs": [],
   "source": [
    "# Remove duplicates\n",
    "df = df.drop_duplicates()"
   ]
  },
  {
   "cell_type": "code",
   "execution_count": 11,
   "metadata": {
    "colab": {
     "base_uri": "https://localhost:8080/"
    },
    "id": "wPXqO7Ww1jE9",
    "outputId": "4c3df789-2cef-429f-b9dc-e20bedce78a4"
   },
   "outputs": [
    {
     "name": "stdout",
     "output_type": "stream",
     "text": [
      "Number of duplicates after removing: 0\n"
     ]
    }
   ],
   "source": [
    "num_duplicates_after = df.duplicated().sum()\n",
    "print(f\"Number of duplicates after removing: {num_duplicates_after}\")"
   ]
  },
  {
   "cell_type": "markdown",
   "metadata": {
    "id": "vFYHa_HYoBM3"
   },
   "source": [
    "### One-Hot Encoding of Categorical Features"
   ]
  },
  {
   "cell_type": "markdown",
   "metadata": {
    "id": "Ya3CFgkyVTAJ"
   },
   "source": [
    "* Genre One-Hot Encoding"
   ]
  },
  {
   "cell_type": "code",
   "execution_count": 12,
   "metadata": {
    "id": "mQ2QhuGeVTAJ"
   },
   "outputs": [],
   "source": [
    "'''\n",
    "my plan here is to just split each genre as a token by using the comma as a delimiter, then find all\n",
    "of the unique genres, and then one-hot encode them so I can drop the original genres column\n",
    "'''\n",
    "\n",
    "df['genres'] = df['genres'].fillna('Unknown') # for genres that are empty just call them Unknown\n",
    "\n",
    "df['genres'] = df['genres'].apply(lambda x: x.split(', '))\n",
    "\n",
    "unique_genres = sorted(set(genre for genres in df['genres'] for genre in genres))\n",
    "\n",
    "for genre in unique_genres:\n",
    "  df[genre] = df['genres'].apply(lambda genres: int(genre in genres))\n",
    "\n",
    "# Do NOT drop genres yet, we will still keep it for the later steps\n",
    "# df = df.drop('genres', axis=1)"
   ]
  },
  {
   "cell_type": "code",
   "execution_count": 13,
   "metadata": {
    "id": "JPa3m_ytVTAJ"
   },
   "outputs": [],
   "source": [
    "# now here I can save the modifications to the csv file\n",
    "df.to_csv(\"TMDB_tv_dataset_v3.csv\", index=False)"
   ]
  },
  {
   "cell_type": "markdown",
   "metadata": {
    "id": "fWK1qcOEVTAJ"
   },
   "source": [
    "* Rest of the One-Hot Encoding"
   ]
  },
  {
   "cell_type": "code",
   "execution_count": 14,
   "metadata": {
    "colab": {
     "base_uri": "https://localhost:8080/"
    },
    "id": "B5c1ZRr0oDaS",
    "outputId": "8e09b700-49ff-41b1-a748-142713ebcc5c"
   },
   "outputs": [
    {
     "name": "stdout",
     "output_type": "stream",
     "text": [
      "Column 'name' unique count: 155586\n",
      "Column 'original_language' unique count: 106\n",
      "Column 'overview' unique count: 91243\n",
      "Column 'backdrop_path' unique count: 76300\n",
      "Column 'first_air_date' unique count: 18286\n",
      "Column 'last_air_date' unique count: 18705\n",
      "Column 'homepage' unique count: 49758\n",
      "Column 'original_name' unique count: 157313\n",
      "Column 'poster_path' unique count: 106050\n",
      "Column 'type' unique count: 7\n",
      "Column 'status' unique count: 6\n",
      "Column 'tagline' unique count: 5267\n",
      "Column 'created_by' unique count: 26081\n",
      "Column 'languages' unique count: 1113\n",
      "Column 'networks' unique count: 8196\n",
      "Column 'origin_country' unique count: 792\n",
      "Column 'spoken_languages' unique count: 946\n",
      "Column 'production_companies' unique count: 27132\n",
      "Column 'production_countries' unique count: 1247\n",
      "Column 'cleaned_overview' unique count: 91025\n"
     ]
    }
   ],
   "source": [
    "# Creating a list of all columns with object values and inspecting their unique values\n",
    "object_columns = df.select_dtypes(include=['object']).columns.tolist()\n",
    "object_columns = [col for col in object_columns if col != 'genres']  # Exclude 'genres'\n",
    "\n",
    "# Check each column individually for unique values\n",
    "for col in object_columns:\n",
    "  try:\n",
    "    unique_count = df[col].nunique()\n",
    "    print(f\"Column '{col}' unique count: {unique_count}\")\n",
    "  except TypeError:\n",
    "    print(f\"Column '{col}' contains unhashable types.\")"
   ]
  },
  {
   "cell_type": "code",
   "execution_count": 15,
   "metadata": {
    "id": "EKCfUEi0VTAJ"
   },
   "outputs": [],
   "source": [
    "# Columns not included are name, overview, backdrop_path, homepage, original_name, poster_path, tagline, languages, spoken_languages,production_countries, and cleaned_overview\n",
    "encode_cols =['original_language','type', 'status','created_by','networks','origin_country','production_companies']"
   ]
  },
  {
   "cell_type": "code",
   "execution_count": 16,
   "metadata": {
    "colab": {
     "base_uri": "https://localhost:8080/"
    },
    "id": "LMATpN5kVTAQ",
    "outputId": "16afceaa-2fcf-4ef0-8da2-0adad5ce95f8"
   },
   "outputs": [
    {
     "data": {
      "text/plain": [
       "['en', 'zh', 'ja', 'ko', 'de', 'fr', 'es', 'pt', 'ru', 'nl']"
      ]
     },
     "execution_count": 16,
     "metadata": {},
     "output_type": "execute_result"
    }
   ],
   "source": [
    "# Creating a list of the top 20 values in the original_language column\n",
    "top_10_original_language = df['original_language'].value_counts(ascending = False).head(10).index.tolist()\n",
    "top_10_original_language"
   ]
  },
  {
   "cell_type": "code",
   "execution_count": 17,
   "metadata": {
    "id": "DwV__AtjVTAQ"
   },
   "outputs": [],
   "source": [
    "# Creating one-hot encoded columns for original_language\n",
    "for i in top_10_original_language:\n",
    "    name = 'original-language_' + i\n",
    "    df[name] = np.where(df['original_language'] == i, 1, 0)"
   ]
  },
  {
   "cell_type": "code",
   "execution_count": 18,
   "metadata": {
    "colab": {
     "base_uri": "https://localhost:8080/"
    },
    "id": "wMHT9IbEVTAQ",
    "outputId": "8522aabd-8ecc-4957-e8d2-8115a3e7c4ae"
   },
   "outputs": [
    {
     "data": {
      "text/plain": [
       "Index(['id', 'name', 'number_of_seasons', 'number_of_episodes', 'vote_count',\n",
       "       'vote_average', 'overview', 'adult', 'backdrop_path', 'first_air_date',\n",
       "       'last_air_date', 'homepage', 'in_production', 'original_name',\n",
       "       'popularity', 'poster_path', 'type', 'status', 'tagline', 'genres',\n",
       "       'created_by', 'languages', 'networks', 'origin_country',\n",
       "       'spoken_languages', 'production_companies', 'production_countries',\n",
       "       'episode_run_time', 'cleaned_overview', 'Action & Adventure',\n",
       "       'Animation', 'Comedy', 'Crime', 'Documentary', 'Drama', 'Family',\n",
       "       'History', 'Kids', 'Music', 'Musical', 'Mystery', 'News', 'Reality',\n",
       "       'Romance', 'Sci-Fi & Fantasy', 'Soap', 'Talk', 'Unknown',\n",
       "       'War & Politics', 'Western', 'original-language_en',\n",
       "       'original-language_zh', 'original-language_ja', 'original-language_ko',\n",
       "       'original-language_de', 'original-language_fr', 'original-language_es',\n",
       "       'original-language_pt', 'original-language_ru', 'original-language_nl'],\n",
       "      dtype='object')"
      ]
     },
     "execution_count": 18,
     "metadata": {},
     "output_type": "execute_result"
    }
   ],
   "source": [
    "# Removing the original_language column from df and encode_cols\n",
    "df.drop(columns = ['original_language'], inplace = True)\n",
    "encode_cols.remove('original_language')\n",
    "df.columns"
   ]
  },
  {
   "cell_type": "code",
   "execution_count": 19,
   "metadata": {
    "colab": {
     "base_uri": "https://localhost:8080/"
    },
    "id": "KHXh_TDyVTAQ",
    "outputId": "074cf5de-0418-4dc8-c365-ac8982fdccd3"
   },
   "outputs": [
    {
     "data": {
      "text/plain": [
       "['Shotaro Ishinomori',\n",
       " 'John de Mol',\n",
       " 'Adrián Suar',\n",
       " 'Simon Fuller',\n",
       " 'Ekta Kapoor',\n",
       " 'Na Young-seok',\n",
       " 'Yang Li-Hua',\n",
       " 'Joseph Barbera, William Hanna',\n",
       " 'R.J. Nuevas',\n",
       " 'Mark Burnett']"
      ]
     },
     "execution_count": 19,
     "metadata": {},
     "output_type": "execute_result"
    }
   ],
   "source": [
    "# Creating a list of the top 10 values in the created_by column\n",
    "top_10_created_by = df['created_by'].value_counts(ascending = False).head(10).index.tolist()\n",
    "top_10_created_by"
   ]
  },
  {
   "cell_type": "code",
   "execution_count": 20,
   "metadata": {
    "id": "Y3esiGh7VTAQ"
   },
   "outputs": [],
   "source": [
    "# Creating one-hot encoded columns for created_by\n",
    "for i in top_10_created_by:\n",
    "    name = 'created-by_' + i\n",
    "    df[name] = np.where(df['created_by'] == i, 1, 0)"
   ]
  },
  {
   "cell_type": "code",
   "execution_count": 21,
   "metadata": {
    "colab": {
     "base_uri": "https://localhost:8080/"
    },
    "id": "AkIXQnNYVTAR",
    "outputId": "5c4884d4-2dcf-49c6-f25b-9b38cf1e328e"
   },
   "outputs": [
    {
     "data": {
      "text/plain": [
       "Index(['id', 'name', 'number_of_seasons', 'number_of_episodes', 'vote_count',\n",
       "       'vote_average', 'overview', 'adult', 'backdrop_path', 'first_air_date',\n",
       "       'last_air_date', 'homepage', 'in_production', 'original_name',\n",
       "       'popularity', 'poster_path', 'type', 'status', 'tagline', 'genres',\n",
       "       'languages', 'networks', 'origin_country', 'spoken_languages',\n",
       "       'production_companies', 'production_countries', 'episode_run_time',\n",
       "       'cleaned_overview', 'Action & Adventure', 'Animation', 'Comedy',\n",
       "       'Crime', 'Documentary', 'Drama', 'Family', 'History', 'Kids', 'Music',\n",
       "       'Musical', 'Mystery', 'News', 'Reality', 'Romance', 'Sci-Fi & Fantasy',\n",
       "       'Soap', 'Talk', 'Unknown', 'War & Politics', 'Western',\n",
       "       'original-language_en', 'original-language_zh', 'original-language_ja',\n",
       "       'original-language_ko', 'original-language_de', 'original-language_fr',\n",
       "       'original-language_es', 'original-language_pt', 'original-language_ru',\n",
       "       'original-language_nl', 'created-by_Shotaro Ishinomori',\n",
       "       'created-by_John de Mol', 'created-by_Adrián Suar',\n",
       "       'created-by_Simon Fuller', 'created-by_Ekta Kapoor',\n",
       "       'created-by_Na Young-seok', 'created-by_Yang Li-Hua',\n",
       "       'created-by_Joseph Barbera, William Hanna', 'created-by_R.J. Nuevas',\n",
       "       'created-by_Mark Burnett'],\n",
       "      dtype='object')"
      ]
     },
     "execution_count": 21,
     "metadata": {},
     "output_type": "execute_result"
    }
   ],
   "source": [
    "# Removing the created_by column from df and encode_cols\n",
    "df.drop(columns = ['created_by'], inplace = True)\n",
    "encode_cols.remove('created_by')\n",
    "\n",
    "df.columns"
   ]
  },
  {
   "cell_type": "code",
   "execution_count": 22,
   "metadata": {
    "colab": {
     "base_uri": "https://localhost:8080/"
    },
    "id": "MTpkGnugVTAR",
    "outputId": "1b2310c4-102f-4cbc-aa2f-db9c356af0e5"
   },
   "outputs": [
    {
     "data": {
      "text/plain": [
       "['BBC One',\n",
       " 'YouTube',\n",
       " 'Netflix',\n",
       " 'ITV1',\n",
       " 'BBC Two',\n",
       " 'ABC',\n",
       " 'NBC',\n",
       " 'TVB Jade',\n",
       " 'CBS',\n",
       " 'Channel 4']"
      ]
     },
     "execution_count": 22,
     "metadata": {},
     "output_type": "execute_result"
    }
   ],
   "source": [
    "# Creating a list of the top 11 values in the networks column\n",
    "top_10_networks = df['networks'].value_counts(ascending = False).head(10).index.tolist()\n",
    "top_10_networks"
   ]
  },
  {
   "cell_type": "code",
   "execution_count": 23,
   "metadata": {
    "id": "HBDjiaJRVTAR"
   },
   "outputs": [],
   "source": [
    "# Creating one-hot encoded columns for networks\n",
    "for i in top_10_networks:\n",
    "    name = 'networks_' + i\n",
    "    df[name] = np.where(df['networks'] == i, 1, 0)"
   ]
  },
  {
   "cell_type": "code",
   "execution_count": 24,
   "metadata": {
    "colab": {
     "base_uri": "https://localhost:8080/"
    },
    "id": "0A_ro0CcVTAR",
    "outputId": "09df3ff6-9ebe-406b-c173-4bfcb765f306"
   },
   "outputs": [
    {
     "data": {
      "text/plain": [
       "Index(['id', 'name', 'number_of_seasons', 'number_of_episodes', 'vote_count',\n",
       "       'vote_average', 'overview', 'adult', 'backdrop_path', 'first_air_date',\n",
       "       'last_air_date', 'homepage', 'in_production', 'original_name',\n",
       "       'popularity', 'poster_path', 'type', 'status', 'tagline', 'genres',\n",
       "       'languages', 'origin_country', 'spoken_languages',\n",
       "       'production_companies', 'production_countries', 'episode_run_time',\n",
       "       'cleaned_overview', 'Action & Adventure', 'Animation', 'Comedy',\n",
       "       'Crime', 'Documentary', 'Drama', 'Family', 'History', 'Kids', 'Music',\n",
       "       'Musical', 'Mystery', 'News', 'Reality', 'Romance', 'Sci-Fi & Fantasy',\n",
       "       'Soap', 'Talk', 'Unknown', 'War & Politics', 'Western',\n",
       "       'original-language_en', 'original-language_zh', 'original-language_ja',\n",
       "       'original-language_ko', 'original-language_de', 'original-language_fr',\n",
       "       'original-language_es', 'original-language_pt', 'original-language_ru',\n",
       "       'original-language_nl', 'created-by_Shotaro Ishinomori',\n",
       "       'created-by_John de Mol', 'created-by_Adrián Suar',\n",
       "       'created-by_Simon Fuller', 'created-by_Ekta Kapoor',\n",
       "       'created-by_Na Young-seok', 'created-by_Yang Li-Hua',\n",
       "       'created-by_Joseph Barbera, William Hanna', 'created-by_R.J. Nuevas',\n",
       "       'created-by_Mark Burnett', 'networks_BBC One', 'networks_YouTube',\n",
       "       'networks_Netflix', 'networks_ITV1', 'networks_BBC Two', 'networks_ABC',\n",
       "       'networks_NBC', 'networks_TVB Jade', 'networks_CBS',\n",
       "       'networks_Channel 4'],\n",
       "      dtype='object')"
      ]
     },
     "execution_count": 24,
     "metadata": {},
     "output_type": "execute_result"
    }
   ],
   "source": [
    "# Removing the networks column from df and encode_cols\n",
    "df.drop(columns = ['networks'], inplace = True)\n",
    "encode_cols.remove('networks')\n",
    "\n",
    "df.columns"
   ]
  },
  {
   "cell_type": "code",
   "execution_count": 25,
   "metadata": {
    "colab": {
     "base_uri": "https://localhost:8080/"
    },
    "id": "M1xUg7HwVTAR",
    "outputId": "6331fb67-b471-4189-a3f8-abd3caa2df67"
   },
   "outputs": [
    {
     "data": {
      "text/plain": [
       "['US', 'JP', 'GB', 'CN', 'DE', 'KR', 'CA', 'FR', 'AU', 'BR']"
      ]
     },
     "execution_count": 25,
     "metadata": {},
     "output_type": "execute_result"
    }
   ],
   "source": [
    "# Creating a list of the top 10 values in the origin_country column\n",
    "top_10_origin_country = df['origin_country'].value_counts(ascending = False).head(10).index.tolist()\n",
    "top_10_origin_country"
   ]
  },
  {
   "cell_type": "code",
   "execution_count": 26,
   "metadata": {
    "id": "IJA8wJg5VTAR"
   },
   "outputs": [],
   "source": [
    "'''\n",
    "I was getting a warning message when running the code due to performance issues, so I followed\n",
    "the warnings sudgested approach to fix the issue by using the pd.concat function.\n",
    "'''\n",
    "\n",
    "one_hot_encoded_origin_country = pd.DataFrame() # start with an empty dataframe\n",
    "\n",
    "for i in top_10_origin_country:\n",
    "    one_hot_encoded_origin_country['origin-country_' + i] = np.where(df['origin_country'] == i, 1, 0)\n",
    "\n",
    "# the we can concatenate the one-hot encoded columns to the original DataFrame\n",
    "df = pd.concat([df, one_hot_encoded_origin_country], axis=1)"
   ]
  },
  {
   "cell_type": "code",
   "execution_count": 27,
   "metadata": {
    "colab": {
     "base_uri": "https://localhost:8080/"
    },
    "id": "cQ18dR4IVTAR",
    "outputId": "3cf0d37e-5582-4ed8-a116-8fcea1d69ca1"
   },
   "outputs": [
    {
     "data": {
      "text/plain": [
       "Index(['id', 'name', 'number_of_seasons', 'number_of_episodes', 'vote_count',\n",
       "       'vote_average', 'overview', 'adult', 'backdrop_path', 'first_air_date',\n",
       "       'last_air_date', 'homepage', 'in_production', 'original_name',\n",
       "       'popularity', 'poster_path', 'type', 'status', 'tagline', 'genres',\n",
       "       'languages', 'spoken_languages', 'production_companies',\n",
       "       'production_countries', 'episode_run_time', 'cleaned_overview',\n",
       "       'Action & Adventure', 'Animation', 'Comedy', 'Crime', 'Documentary',\n",
       "       'Drama', 'Family', 'History', 'Kids', 'Music', 'Musical', 'Mystery',\n",
       "       'News', 'Reality', 'Romance', 'Sci-Fi & Fantasy', 'Soap', 'Talk',\n",
       "       'Unknown', 'War & Politics', 'Western', 'original-language_en',\n",
       "       'original-language_zh', 'original-language_ja', 'original-language_ko',\n",
       "       'original-language_de', 'original-language_fr', 'original-language_es',\n",
       "       'original-language_pt', 'original-language_ru', 'original-language_nl',\n",
       "       'created-by_Shotaro Ishinomori', 'created-by_John de Mol',\n",
       "       'created-by_Adrián Suar', 'created-by_Simon Fuller',\n",
       "       'created-by_Ekta Kapoor', 'created-by_Na Young-seok',\n",
       "       'created-by_Yang Li-Hua', 'created-by_Joseph Barbera, William Hanna',\n",
       "       'created-by_R.J. Nuevas', 'created-by_Mark Burnett', 'networks_BBC One',\n",
       "       'networks_YouTube', 'networks_Netflix', 'networks_ITV1',\n",
       "       'networks_BBC Two', 'networks_ABC', 'networks_NBC', 'networks_TVB Jade',\n",
       "       'networks_CBS', 'networks_Channel 4', 'origin-country_US',\n",
       "       'origin-country_JP', 'origin-country_GB', 'origin-country_CN',\n",
       "       'origin-country_DE', 'origin-country_KR', 'origin-country_CA',\n",
       "       'origin-country_FR', 'origin-country_AU', 'origin-country_BR'],\n",
       "      dtype='object')"
      ]
     },
     "execution_count": 27,
     "metadata": {},
     "output_type": "execute_result"
    }
   ],
   "source": [
    "# Removing the origin_country column from df and encode_cols\n",
    "df.drop(columns = ['origin_country'], inplace = True)\n",
    "encode_cols.remove('origin_country')\n",
    "\n",
    "df.columns"
   ]
  },
  {
   "cell_type": "code",
   "execution_count": 28,
   "metadata": {
    "colab": {
     "base_uri": "https://localhost:8080/"
    },
    "id": "mjnbHKvaVTAR",
    "outputId": "0727b892-2fb2-41cb-c205-834e8a0a77ec"
   },
   "outputs": [
    {
     "data": {
      "text/plain": [
       "['TVB',\n",
       " 'BBC',\n",
       " 'Estúdios Globo',\n",
       " 'NHK',\n",
       " 'DR TV',\n",
       " 'TV 2',\n",
       " 'Televisa',\n",
       " 'GMA Entertainment Group',\n",
       " 'Česká televize',\n",
       " 'ATV Enterprises Limited']"
      ]
     },
     "execution_count": 28,
     "metadata": {},
     "output_type": "execute_result"
    }
   ],
   "source": [
    "# Creating a list of the top 10 values in the production_companies column\n",
    "top_10_production_companies = df['production_companies'].value_counts(ascending = False).head(10).index.tolist()\n",
    "top_10_production_companies"
   ]
  },
  {
   "cell_type": "code",
   "execution_count": 29,
   "metadata": {
    "id": "LcmM2K-9VTAR"
   },
   "outputs": [],
   "source": [
    "'''\n",
    "did the same changes to this code cell as well to fix the warning message\n",
    "'''\n",
    "\n",
    "one_hot_encoded_production_companies = pd.DataFrame() # start with an empty dataframe\n",
    "\n",
    "for i in top_10_origin_country:\n",
    "    one_hot_encoded_production_companies['production-companies_' + i] = np.where(df['production_companies'] == i, 1, 0)\n",
    "\n",
    "# the we can concatenate the one-hot encoded columns to the original DataFrame\n",
    "df = pd.concat([df, one_hot_encoded_production_companies], axis=1)"
   ]
  },
  {
   "cell_type": "code",
   "execution_count": 30,
   "metadata": {
    "colab": {
     "base_uri": "https://localhost:8080/"
    },
    "id": "1OwJ0kqzVTAR",
    "outputId": "225843b0-c004-4fd0-c4f0-6e12abd5fe35"
   },
   "outputs": [
    {
     "data": {
      "text/plain": [
       "Index(['id', 'name', 'number_of_seasons', 'number_of_episodes', 'vote_count',\n",
       "       'vote_average', 'overview', 'adult', 'backdrop_path', 'first_air_date',\n",
       "       'last_air_date', 'homepage', 'in_production', 'original_name',\n",
       "       'popularity', 'poster_path', 'type', 'status', 'tagline', 'genres',\n",
       "       'languages', 'spoken_languages', 'production_countries',\n",
       "       'episode_run_time', 'cleaned_overview', 'Action & Adventure',\n",
       "       'Animation', 'Comedy', 'Crime', 'Documentary', 'Drama', 'Family',\n",
       "       'History', 'Kids', 'Music', 'Musical', 'Mystery', 'News', 'Reality',\n",
       "       'Romance', 'Sci-Fi & Fantasy', 'Soap', 'Talk', 'Unknown',\n",
       "       'War & Politics', 'Western', 'original-language_en',\n",
       "       'original-language_zh', 'original-language_ja', 'original-language_ko',\n",
       "       'original-language_de', 'original-language_fr', 'original-language_es',\n",
       "       'original-language_pt', 'original-language_ru', 'original-language_nl',\n",
       "       'created-by_Shotaro Ishinomori', 'created-by_John de Mol',\n",
       "       'created-by_Adrián Suar', 'created-by_Simon Fuller',\n",
       "       'created-by_Ekta Kapoor', 'created-by_Na Young-seok',\n",
       "       'created-by_Yang Li-Hua', 'created-by_Joseph Barbera, William Hanna',\n",
       "       'created-by_R.J. Nuevas', 'created-by_Mark Burnett', 'networks_BBC One',\n",
       "       'networks_YouTube', 'networks_Netflix', 'networks_ITV1',\n",
       "       'networks_BBC Two', 'networks_ABC', 'networks_NBC', 'networks_TVB Jade',\n",
       "       'networks_CBS', 'networks_Channel 4', 'origin-country_US',\n",
       "       'origin-country_JP', 'origin-country_GB', 'origin-country_CN',\n",
       "       'origin-country_DE', 'origin-country_KR', 'origin-country_CA',\n",
       "       'origin-country_FR', 'origin-country_AU', 'origin-country_BR',\n",
       "       'production-companies_US', 'production-companies_JP',\n",
       "       'production-companies_GB', 'production-companies_CN',\n",
       "       'production-companies_DE', 'production-companies_KR',\n",
       "       'production-companies_CA', 'production-companies_FR',\n",
       "       'production-companies_AU', 'production-companies_BR'],\n",
       "      dtype='object')"
      ]
     },
     "execution_count": 30,
     "metadata": {},
     "output_type": "execute_result"
    }
   ],
   "source": [
    "# Removing the production_companies column from df and encode_cols\n",
    "df.drop(columns = ['production_companies'], inplace = True)\n",
    "encode_cols.remove('production_companies')\n",
    "\n",
    "df.columns"
   ]
  },
  {
   "cell_type": "code",
   "execution_count": 31,
   "metadata": {
    "colab": {
     "base_uri": "https://localhost:8080/"
    },
    "id": "o7GQI2hJVTAR",
    "outputId": "629ca15f-5643-4611-a2bb-c3c8fba7588c"
   },
   "outputs": [
    {
     "data": {
      "text/plain": [
       "Index(['id', 'name', 'number_of_seasons', 'number_of_episodes', 'vote_count',\n",
       "       'vote_average', 'overview', 'adult', 'backdrop_path', 'first_air_date',\n",
       "       ...\n",
       "       'type_Reality', 'type_Scripted', 'type_Talk Show', 'type_Video',\n",
       "       'status_Canceled', 'status_Ended', 'status_In Production',\n",
       "       'status_Pilot', 'status_Planned', 'status_Returning Series'],\n",
       "      dtype='object', length=109)"
      ]
     },
     "execution_count": 31,
     "metadata": {},
     "output_type": "execute_result"
    }
   ],
   "source": [
    "# One-hot encoding remaining columns\n",
    "for colname in encode_cols:\n",
    "    df_encoded = pd.get_dummies(df[colname], prefix=colname+'')\n",
    "    df = df.join(df_encoded)\n",
    "\n",
    "df.columns"
   ]
  },
  {
   "cell_type": "code",
   "execution_count": 32,
   "metadata": {
    "colab": {
     "base_uri": "https://localhost:8080/"
    },
    "id": "Lpvs8erzVTAR",
    "outputId": "e03ba08e-56f2-4d4c-cd45-7d516815aa1e"
   },
   "outputs": [
    {
     "data": {
      "text/plain": [
       "Index(['id', 'name', 'number_of_seasons', 'number_of_episodes', 'vote_count',\n",
       "       'vote_average', 'overview', 'adult', 'backdrop_path', 'first_air_date',\n",
       "       ...\n",
       "       'type_Reality', 'type_Scripted', 'type_Talk Show', 'type_Video',\n",
       "       'status_Canceled', 'status_Ended', 'status_In Production',\n",
       "       'status_Pilot', 'status_Planned', 'status_Returning Series'],\n",
       "      dtype='object', length=107)"
      ]
     },
     "execution_count": 32,
     "metadata": {},
     "output_type": "execute_result"
    }
   ],
   "source": [
    "# Removing remaining original cols from df\n",
    "df.drop(columns=encode_cols,axis=1,inplace=True)\n",
    "\n",
    "df.columns"
   ]
  },
  {
   "cell_type": "code",
   "execution_count": 33,
   "metadata": {
    "colab": {
     "base_uri": "https://localhost:8080/",
     "height": 516
    },
    "id": "x2c71e9qVTAR",
    "outputId": "86341c6b-4f0b-4ad0-ea34-21e7f75b4004"
   },
   "outputs": [
    {
     "data": {
      "text/html": [
       "<div>\n",
       "<style scoped>\n",
       "    .dataframe tbody tr th:only-of-type {\n",
       "        vertical-align: middle;\n",
       "    }\n",
       "\n",
       "    .dataframe tbody tr th {\n",
       "        vertical-align: top;\n",
       "    }\n",
       "\n",
       "    .dataframe thead th {\n",
       "        text-align: right;\n",
       "    }\n",
       "</style>\n",
       "<table border=\"1\" class=\"dataframe\">\n",
       "  <thead>\n",
       "    <tr style=\"text-align: right;\">\n",
       "      <th></th>\n",
       "      <th>id</th>\n",
       "      <th>name</th>\n",
       "      <th>number_of_seasons</th>\n",
       "      <th>number_of_episodes</th>\n",
       "      <th>vote_count</th>\n",
       "      <th>vote_average</th>\n",
       "      <th>overview</th>\n",
       "      <th>adult</th>\n",
       "      <th>backdrop_path</th>\n",
       "      <th>first_air_date</th>\n",
       "      <th>...</th>\n",
       "      <th>type_Reality</th>\n",
       "      <th>type_Scripted</th>\n",
       "      <th>type_Talk Show</th>\n",
       "      <th>type_Video</th>\n",
       "      <th>status_Canceled</th>\n",
       "      <th>status_Ended</th>\n",
       "      <th>status_In Production</th>\n",
       "      <th>status_Pilot</th>\n",
       "      <th>status_Planned</th>\n",
       "      <th>status_Returning Series</th>\n",
       "    </tr>\n",
       "  </thead>\n",
       "  <tbody>\n",
       "    <tr>\n",
       "      <th>0</th>\n",
       "      <td>1399.0</td>\n",
       "      <td>Game of Thrones</td>\n",
       "      <td>8.0</td>\n",
       "      <td>73.0</td>\n",
       "      <td>21857.0</td>\n",
       "      <td>8.442</td>\n",
       "      <td>Seven noble families fight for control of the ...</td>\n",
       "      <td>False</td>\n",
       "      <td>/2OMB0ynKlyIenMJWI2Dy9IWT4c.jpg</td>\n",
       "      <td>2011-04-17</td>\n",
       "      <td>...</td>\n",
       "      <td>False</td>\n",
       "      <td>True</td>\n",
       "      <td>False</td>\n",
       "      <td>False</td>\n",
       "      <td>False</td>\n",
       "      <td>True</td>\n",
       "      <td>False</td>\n",
       "      <td>False</td>\n",
       "      <td>False</td>\n",
       "      <td>False</td>\n",
       "    </tr>\n",
       "    <tr>\n",
       "      <th>1</th>\n",
       "      <td>71446.0</td>\n",
       "      <td>Money Heist</td>\n",
       "      <td>3.0</td>\n",
       "      <td>41.0</td>\n",
       "      <td>17836.0</td>\n",
       "      <td>8.257</td>\n",
       "      <td>To carry out the biggest heist in history, a m...</td>\n",
       "      <td>False</td>\n",
       "      <td>/gFZriCkpJYsApPZEF3jhxL4yLzG.jpg</td>\n",
       "      <td>2017-05-02</td>\n",
       "      <td>...</td>\n",
       "      <td>False</td>\n",
       "      <td>True</td>\n",
       "      <td>False</td>\n",
       "      <td>False</td>\n",
       "      <td>False</td>\n",
       "      <td>True</td>\n",
       "      <td>False</td>\n",
       "      <td>False</td>\n",
       "      <td>False</td>\n",
       "      <td>False</td>\n",
       "    </tr>\n",
       "    <tr>\n",
       "      <th>2</th>\n",
       "      <td>66732.0</td>\n",
       "      <td>Stranger Things</td>\n",
       "      <td>4.0</td>\n",
       "      <td>34.0</td>\n",
       "      <td>16161.0</td>\n",
       "      <td>8.624</td>\n",
       "      <td>When a young boy vanishes, a small town uncove...</td>\n",
       "      <td>False</td>\n",
       "      <td>/2MaumbgBlW1NoPo3ZJO38A6v7OS.jpg</td>\n",
       "      <td>2016-07-15</td>\n",
       "      <td>...</td>\n",
       "      <td>False</td>\n",
       "      <td>True</td>\n",
       "      <td>False</td>\n",
       "      <td>False</td>\n",
       "      <td>False</td>\n",
       "      <td>False</td>\n",
       "      <td>False</td>\n",
       "      <td>False</td>\n",
       "      <td>False</td>\n",
       "      <td>True</td>\n",
       "    </tr>\n",
       "    <tr>\n",
       "      <th>3</th>\n",
       "      <td>1402.0</td>\n",
       "      <td>The Walking Dead</td>\n",
       "      <td>11.0</td>\n",
       "      <td>177.0</td>\n",
       "      <td>15432.0</td>\n",
       "      <td>8.121</td>\n",
       "      <td>Sheriff's deputy Rick Grimes awakens from a co...</td>\n",
       "      <td>False</td>\n",
       "      <td>/x4salpjB11umlUOltfNvSSrjSXm.jpg</td>\n",
       "      <td>2010-10-31</td>\n",
       "      <td>...</td>\n",
       "      <td>False</td>\n",
       "      <td>True</td>\n",
       "      <td>False</td>\n",
       "      <td>False</td>\n",
       "      <td>False</td>\n",
       "      <td>True</td>\n",
       "      <td>False</td>\n",
       "      <td>False</td>\n",
       "      <td>False</td>\n",
       "      <td>False</td>\n",
       "    </tr>\n",
       "    <tr>\n",
       "      <th>4</th>\n",
       "      <td>63174.0</td>\n",
       "      <td>Lucifer</td>\n",
       "      <td>6.0</td>\n",
       "      <td>93.0</td>\n",
       "      <td>13870.0</td>\n",
       "      <td>8.486</td>\n",
       "      <td>Bored and unhappy as the Lord of Hell, Lucifer...</td>\n",
       "      <td>False</td>\n",
       "      <td>/aDBRtunw49UF4XmqfyNuD9nlYIu.jpg</td>\n",
       "      <td>2016-01-25</td>\n",
       "      <td>...</td>\n",
       "      <td>False</td>\n",
       "      <td>True</td>\n",
       "      <td>False</td>\n",
       "      <td>False</td>\n",
       "      <td>False</td>\n",
       "      <td>True</td>\n",
       "      <td>False</td>\n",
       "      <td>False</td>\n",
       "      <td>False</td>\n",
       "      <td>False</td>\n",
       "    </tr>\n",
       "    <tr>\n",
       "      <th>5</th>\n",
       "      <td>69050.0</td>\n",
       "      <td>Riverdale</td>\n",
       "      <td>7.0</td>\n",
       "      <td>137.0</td>\n",
       "      <td>13180.0</td>\n",
       "      <td>8.479</td>\n",
       "      <td>Set in the present, the series offers a bold, ...</td>\n",
       "      <td>False</td>\n",
       "      <td>/soQgquPkLmUu9eKLJJzuA4KZDyi.jpg</td>\n",
       "      <td>2017-01-26</td>\n",
       "      <td>...</td>\n",
       "      <td>False</td>\n",
       "      <td>True</td>\n",
       "      <td>False</td>\n",
       "      <td>False</td>\n",
       "      <td>False</td>\n",
       "      <td>True</td>\n",
       "      <td>False</td>\n",
       "      <td>False</td>\n",
       "      <td>False</td>\n",
       "      <td>False</td>\n",
       "    </tr>\n",
       "    <tr>\n",
       "      <th>6</th>\n",
       "      <td>93405.0</td>\n",
       "      <td>Squid Game</td>\n",
       "      <td>2.0</td>\n",
       "      <td>9.0</td>\n",
       "      <td>13053.0</td>\n",
       "      <td>7.831</td>\n",
       "      <td>Hundreds of cash-strapped players accept a str...</td>\n",
       "      <td>False</td>\n",
       "      <td>/2meX1nMdScFOoV4370rqHWKmXhY.jpg</td>\n",
       "      <td>2021-09-17</td>\n",
       "      <td>...</td>\n",
       "      <td>False</td>\n",
       "      <td>True</td>\n",
       "      <td>False</td>\n",
       "      <td>False</td>\n",
       "      <td>False</td>\n",
       "      <td>False</td>\n",
       "      <td>False</td>\n",
       "      <td>False</td>\n",
       "      <td>False</td>\n",
       "      <td>True</td>\n",
       "    </tr>\n",
       "    <tr>\n",
       "      <th>7</th>\n",
       "      <td>1396.0</td>\n",
       "      <td>Breaking Bad</td>\n",
       "      <td>5.0</td>\n",
       "      <td>62.0</td>\n",
       "      <td>12398.0</td>\n",
       "      <td>8.890</td>\n",
       "      <td>When Walter White, a New Mexico chemistry teac...</td>\n",
       "      <td>False</td>\n",
       "      <td>/tsRy63Mu5cu8etL1X7ZLyf7UP1M.jpg</td>\n",
       "      <td>2008-01-20</td>\n",
       "      <td>...</td>\n",
       "      <td>False</td>\n",
       "      <td>True</td>\n",
       "      <td>False</td>\n",
       "      <td>False</td>\n",
       "      <td>False</td>\n",
       "      <td>True</td>\n",
       "      <td>False</td>\n",
       "      <td>False</td>\n",
       "      <td>False</td>\n",
       "      <td>False</td>\n",
       "    </tr>\n",
       "    <tr>\n",
       "      <th>8</th>\n",
       "      <td>71712.0</td>\n",
       "      <td>The Good Doctor</td>\n",
       "      <td>6.0</td>\n",
       "      <td>116.0</td>\n",
       "      <td>11768.0</td>\n",
       "      <td>8.503</td>\n",
       "      <td>Shaun Murphy, a young surgeon with autism and ...</td>\n",
       "      <td>False</td>\n",
       "      <td>/xXRsKNJHTOGrs5wfYAxkbM2RiyT.jpg</td>\n",
       "      <td>2017-09-25</td>\n",
       "      <td>...</td>\n",
       "      <td>False</td>\n",
       "      <td>True</td>\n",
       "      <td>False</td>\n",
       "      <td>False</td>\n",
       "      <td>False</td>\n",
       "      <td>False</td>\n",
       "      <td>False</td>\n",
       "      <td>False</td>\n",
       "      <td>False</td>\n",
       "      <td>True</td>\n",
       "    </tr>\n",
       "    <tr>\n",
       "      <th>9</th>\n",
       "      <td>85271.0</td>\n",
       "      <td>WandaVision</td>\n",
       "      <td>1.0</td>\n",
       "      <td>9.0</td>\n",
       "      <td>11308.0</td>\n",
       "      <td>8.300</td>\n",
       "      <td>Wanda Maximoff and Vision—two super-powered be...</td>\n",
       "      <td>False</td>\n",
       "      <td>/lOr9NKxh4vMweufMOUDJjJhCRHW.jpg</td>\n",
       "      <td>2021-01-15</td>\n",
       "      <td>...</td>\n",
       "      <td>False</td>\n",
       "      <td>False</td>\n",
       "      <td>False</td>\n",
       "      <td>False</td>\n",
       "      <td>False</td>\n",
       "      <td>True</td>\n",
       "      <td>False</td>\n",
       "      <td>False</td>\n",
       "      <td>False</td>\n",
       "      <td>False</td>\n",
       "    </tr>\n",
       "  </tbody>\n",
       "</table>\n",
       "<p>10 rows × 107 columns</p>\n",
       "</div>"
      ],
      "text/plain": [
       "        id              name  number_of_seasons  number_of_episodes  \\\n",
       "0   1399.0   Game of Thrones                8.0                73.0   \n",
       "1  71446.0       Money Heist                3.0                41.0   \n",
       "2  66732.0   Stranger Things                4.0                34.0   \n",
       "3   1402.0  The Walking Dead               11.0               177.0   \n",
       "4  63174.0           Lucifer                6.0                93.0   \n",
       "5  69050.0         Riverdale                7.0               137.0   \n",
       "6  93405.0        Squid Game                2.0                 9.0   \n",
       "7   1396.0      Breaking Bad                5.0                62.0   \n",
       "8  71712.0   The Good Doctor                6.0               116.0   \n",
       "9  85271.0       WandaVision                1.0                 9.0   \n",
       "\n",
       "   vote_count  vote_average  \\\n",
       "0     21857.0         8.442   \n",
       "1     17836.0         8.257   \n",
       "2     16161.0         8.624   \n",
       "3     15432.0         8.121   \n",
       "4     13870.0         8.486   \n",
       "5     13180.0         8.479   \n",
       "6     13053.0         7.831   \n",
       "7     12398.0         8.890   \n",
       "8     11768.0         8.503   \n",
       "9     11308.0         8.300   \n",
       "\n",
       "                                            overview  adult  \\\n",
       "0  Seven noble families fight for control of the ...  False   \n",
       "1  To carry out the biggest heist in history, a m...  False   \n",
       "2  When a young boy vanishes, a small town uncove...  False   \n",
       "3  Sheriff's deputy Rick Grimes awakens from a co...  False   \n",
       "4  Bored and unhappy as the Lord of Hell, Lucifer...  False   \n",
       "5  Set in the present, the series offers a bold, ...  False   \n",
       "6  Hundreds of cash-strapped players accept a str...  False   \n",
       "7  When Walter White, a New Mexico chemistry teac...  False   \n",
       "8  Shaun Murphy, a young surgeon with autism and ...  False   \n",
       "9  Wanda Maximoff and Vision—two super-powered be...  False   \n",
       "\n",
       "                      backdrop_path first_air_date  ... type_Reality  \\\n",
       "0   /2OMB0ynKlyIenMJWI2Dy9IWT4c.jpg     2011-04-17  ...        False   \n",
       "1  /gFZriCkpJYsApPZEF3jhxL4yLzG.jpg     2017-05-02  ...        False   \n",
       "2  /2MaumbgBlW1NoPo3ZJO38A6v7OS.jpg     2016-07-15  ...        False   \n",
       "3  /x4salpjB11umlUOltfNvSSrjSXm.jpg     2010-10-31  ...        False   \n",
       "4  /aDBRtunw49UF4XmqfyNuD9nlYIu.jpg     2016-01-25  ...        False   \n",
       "5  /soQgquPkLmUu9eKLJJzuA4KZDyi.jpg     2017-01-26  ...        False   \n",
       "6  /2meX1nMdScFOoV4370rqHWKmXhY.jpg     2021-09-17  ...        False   \n",
       "7  /tsRy63Mu5cu8etL1X7ZLyf7UP1M.jpg     2008-01-20  ...        False   \n",
       "8  /xXRsKNJHTOGrs5wfYAxkbM2RiyT.jpg     2017-09-25  ...        False   \n",
       "9  /lOr9NKxh4vMweufMOUDJjJhCRHW.jpg     2021-01-15  ...        False   \n",
       "\n",
       "  type_Scripted type_Talk Show type_Video  status_Canceled status_Ended  \\\n",
       "0          True          False      False            False         True   \n",
       "1          True          False      False            False         True   \n",
       "2          True          False      False            False        False   \n",
       "3          True          False      False            False         True   \n",
       "4          True          False      False            False         True   \n",
       "5          True          False      False            False         True   \n",
       "6          True          False      False            False        False   \n",
       "7          True          False      False            False         True   \n",
       "8          True          False      False            False        False   \n",
       "9         False          False      False            False         True   \n",
       "\n",
       "  status_In Production status_Pilot status_Planned status_Returning Series  \n",
       "0                False        False          False                   False  \n",
       "1                False        False          False                   False  \n",
       "2                False        False          False                    True  \n",
       "3                False        False          False                   False  \n",
       "4                False        False          False                   False  \n",
       "5                False        False          False                   False  \n",
       "6                False        False          False                    True  \n",
       "7                False        False          False                   False  \n",
       "8                False        False          False                    True  \n",
       "9                False        False          False                   False  \n",
       "\n",
       "[10 rows x 107 columns]"
      ]
     },
     "execution_count": 33,
     "metadata": {},
     "output_type": "execute_result"
    }
   ],
   "source": [
    "df.head(10)"
   ]
  },
  {
   "cell_type": "code",
   "execution_count": 34,
   "metadata": {
    "colab": {
     "base_uri": "https://localhost:8080/"
    },
    "id": "g5rzt2i7RztX",
    "outputId": "ab0f3ed0-8fe7-4d93-c585-a8d10bf18094"
   },
   "outputs": [
    {
     "name": "stdout",
     "output_type": "stream",
     "text": [
      "datetime64[ns]\n",
      "datetime64[ns]\n"
     ]
    }
   ],
   "source": [
    "# Converting first_air_date and last_air_date columns to DateTime referring to https://www.youtube.com/watch?v=f7LODKIjtaA\n",
    "df['first_air_date'] = pd.to_datetime(df['first_air_date'], format = '%Y-%m-%d')\n",
    "df['last_air_date'] = pd.to_datetime(df['last_air_date'], format = '%Y-%m-%d' )\n",
    "print(df['first_air_date'].dtypes)\n",
    "print(df['last_air_date'].dtypes)"
   ]
  },
  {
   "cell_type": "code",
   "execution_count": 35,
   "metadata": {
    "colab": {
     "base_uri": "https://localhost:8080/"
    },
    "id": "fsHYI97UR2LJ",
    "outputId": "41b3ddb8-c89d-465c-ef4e-6d4a21e81180"
   },
   "outputs": [
    {
     "name": "stdout",
     "output_type": "stream",
     "text": [
      "0        2011-04-17\n",
      "1        2017-05-02\n",
      "2        2016-07-15\n",
      "3        2010-10-31\n",
      "4        2016-01-25\n",
      "            ...    \n",
      "168412          NaT\n",
      "168416          NaT\n",
      "168418          NaT\n",
      "168419          NaT\n",
      "168420          NaT\n",
      "Name: first_air_date, Length: 168593, dtype: datetime64[ns]\n"
     ]
    }
   ],
   "source": [
    "print(df['first_air_date'])"
   ]
  },
  {
   "cell_type": "code",
   "execution_count": 36,
   "metadata": {
    "colab": {
     "base_uri": "https://localhost:8080/"
    },
    "id": "QQ0oFrfIR4Qu",
    "outputId": "5bb12390-4899-4703-c576-cb9d74df6c82"
   },
   "outputs": [
    {
     "name": "stdout",
     "output_type": "stream",
     "text": [
      "0        2019-05-19\n",
      "1        2021-12-03\n",
      "2        2022-07-01\n",
      "3        2022-11-20\n",
      "4        2021-09-10\n",
      "            ...    \n",
      "168412          NaT\n",
      "168416          NaT\n",
      "168418          NaT\n",
      "168419          NaT\n",
      "168420          NaT\n",
      "Name: last_air_date, Length: 168593, dtype: datetime64[ns]\n"
     ]
    }
   ],
   "source": [
    "print(df['last_air_date'])"
   ]
  },
  {
   "cell_type": "code",
   "execution_count": 37,
   "metadata": {
    "id": "QDP0naK2R7Ry"
   },
   "outputs": [],
   "source": [
    "# Creating a function to create seasons for each month\n",
    "def get_season(date):\n",
    "    month = date.month\n",
    "    if month in [12, 1, 2]:\n",
    "        return 'WINTER'\n",
    "    elif month in [3, 4, 5]:\n",
    "        return 'SPRING'\n",
    "    elif month in [6, 7, 8]:\n",
    "        return 'SUMMER'\n",
    "    elif month in [9, 10, 11]:\n",
    "        return 'FALL'\n",
    "    else:\n",
    "        return 'UNKNOWN'"
   ]
  },
  {
   "cell_type": "code",
   "execution_count": 38,
   "metadata": {
    "colab": {
     "base_uri": "https://localhost:8080/",
     "height": 513
    },
    "id": "LpDfMNAlR9h9",
    "outputId": "4e257692-1285-4dd0-da16-766d018545a4"
   },
   "outputs": [
    {
     "data": {
      "text/plain": [
       "0          SPRING\n",
       "1          SPRING\n",
       "2          SUMMER\n",
       "3            FALL\n",
       "4          WINTER\n",
       "           ...   \n",
       "168412    UNKNOWN\n",
       "168416    UNKNOWN\n",
       "168418    UNKNOWN\n",
       "168419    UNKNOWN\n",
       "168420    UNKNOWN\n",
       "Name: first_air_date_season, Length: 168593, dtype: object"
      ]
     },
     "execution_count": 38,
     "metadata": {},
     "output_type": "execute_result"
    }
   ],
   "source": [
    "# Creating a column with the seasons for first_air_date\n",
    "df['first_air_date_season'] = df['first_air_date'].apply(get_season)\n",
    "df['first_air_date_season']"
   ]
  },
  {
   "cell_type": "code",
   "execution_count": 39,
   "metadata": {
    "colab": {
     "base_uri": "https://localhost:8080/"
    },
    "id": "aBG9brW1SBDN",
    "outputId": "d9f72d3c-ddd5-4540-9e72-be1067246d77"
   },
   "outputs": [],
   "source": [
    "# Creating columns for first_air_date_season as boolean values\n",
    "df['first_air_date_winter'] = df['first_air_date_season'] == 'WINTER'\n",
    "df['first_air_date_spring'] = df['first_air_date_season'] == 'SPRING'\n",
    "df['first_air_date_summer'] = df['first_air_date_season'] == 'SUMMER'\n",
    "df['first_air_date_fall'] = df['first_air_date_season'] == 'FALL'"
   ]
  },
  {
   "cell_type": "code",
   "execution_count": 40,
   "metadata": {
    "colab": {
     "base_uri": "https://localhost:8080/",
     "height": 513
    },
    "id": "bqK8Ckv4SFhv",
    "outputId": "aa9de63c-bbf2-4832-d7a5-447538b60a88"
   },
   "outputs": [
    {
     "data": {
      "text/plain": [
       "0          SPRING\n",
       "1          WINTER\n",
       "2          SUMMER\n",
       "3            FALL\n",
       "4            FALL\n",
       "           ...   \n",
       "168412    UNKNOWN\n",
       "168416    UNKNOWN\n",
       "168418    UNKNOWN\n",
       "168419    UNKNOWN\n",
       "168420    UNKNOWN\n",
       "Name: last_air_date_season, Length: 168593, dtype: object"
      ]
     },
     "execution_count": 40,
     "metadata": {},
     "output_type": "execute_result"
    }
   ],
   "source": [
    "# Repeating same process for last_air_date\n",
    "df['last_air_date_season'] = df['last_air_date'].apply(get_season)\n",
    "df['last_air_date_season']"
   ]
  },
  {
   "cell_type": "code",
   "execution_count": 41,
   "metadata": {
    "colab": {
     "base_uri": "https://localhost:8080/"
    },
    "id": "OYGEZxwXSHlc",
    "outputId": "13672df0-58f4-4ff0-98ed-f8fd86cf43e3"
   },
   "outputs": [],
   "source": [
    "df['last_air_date_winter'] = df['last_air_date_season'] == 'WINTER'\n",
    "df['last_air_date_spring'] = df['last_air_date_season'] == 'SPRING'\n",
    "df['last_air_date_summer'] = df['last_air_date_season'] == 'SUMMER'\n",
    "df['last_air_date_fall'] = df['last_air_date_season'] == 'FALL'"
   ]
  },
  {
   "cell_type": "code",
   "execution_count": 42,
   "metadata": {},
   "outputs": [],
   "source": [
    "# save data changed during one-hot encoding to csv file\n",
    "df.to_csv('TMDB_tv_dataset_v3.csv', index=False)"
   ]
  },
  {
   "cell_type": "code",
   "execution_count": 43,
   "metadata": {
    "colab": {
     "base_uri": "https://localhost:8080/",
     "height": 342
    },
    "id": "f2MGdwALSK3U",
    "outputId": "dc86bb4a-90c1-4091-9f71-e1996284ba0b"
   },
   "outputs": [
    {
     "data": {
      "text/html": [
       "<div>\n",
       "<style scoped>\n",
       "    .dataframe tbody tr th:only-of-type {\n",
       "        vertical-align: middle;\n",
       "    }\n",
       "\n",
       "    .dataframe tbody tr th {\n",
       "        vertical-align: top;\n",
       "    }\n",
       "\n",
       "    .dataframe thead th {\n",
       "        text-align: right;\n",
       "    }\n",
       "</style>\n",
       "<table border=\"1\" class=\"dataframe\">\n",
       "  <thead>\n",
       "    <tr style=\"text-align: right;\">\n",
       "      <th></th>\n",
       "      <th>id</th>\n",
       "      <th>name</th>\n",
       "      <th>number_of_seasons</th>\n",
       "      <th>number_of_episodes</th>\n",
       "      <th>vote_count</th>\n",
       "      <th>vote_average</th>\n",
       "      <th>overview</th>\n",
       "      <th>adult</th>\n",
       "      <th>backdrop_path</th>\n",
       "      <th>first_air_date</th>\n",
       "      <th>...</th>\n",
       "      <th>first_air_date_season</th>\n",
       "      <th>first_air_date_winter</th>\n",
       "      <th>first_air_date_spring</th>\n",
       "      <th>first_air_date_summer</th>\n",
       "      <th>first_air_date_fall</th>\n",
       "      <th>last_air_date_season</th>\n",
       "      <th>last_air_date_winter</th>\n",
       "      <th>last_air_date_spring</th>\n",
       "      <th>last_air_date_summer</th>\n",
       "      <th>last_air_date_fall</th>\n",
       "    </tr>\n",
       "  </thead>\n",
       "  <tbody>\n",
       "    <tr>\n",
       "      <th>0</th>\n",
       "      <td>1399.0</td>\n",
       "      <td>Game of Thrones</td>\n",
       "      <td>8.0</td>\n",
       "      <td>73.0</td>\n",
       "      <td>21857.0</td>\n",
       "      <td>8.442</td>\n",
       "      <td>Seven noble families fight for control of the ...</td>\n",
       "      <td>False</td>\n",
       "      <td>/2OMB0ynKlyIenMJWI2Dy9IWT4c.jpg</td>\n",
       "      <td>2011-04-17</td>\n",
       "      <td>...</td>\n",
       "      <td>SPRING</td>\n",
       "      <td>False</td>\n",
       "      <td>True</td>\n",
       "      <td>False</td>\n",
       "      <td>False</td>\n",
       "      <td>SPRING</td>\n",
       "      <td>False</td>\n",
       "      <td>True</td>\n",
       "      <td>False</td>\n",
       "      <td>False</td>\n",
       "    </tr>\n",
       "    <tr>\n",
       "      <th>1</th>\n",
       "      <td>71446.0</td>\n",
       "      <td>Money Heist</td>\n",
       "      <td>3.0</td>\n",
       "      <td>41.0</td>\n",
       "      <td>17836.0</td>\n",
       "      <td>8.257</td>\n",
       "      <td>To carry out the biggest heist in history, a m...</td>\n",
       "      <td>False</td>\n",
       "      <td>/gFZriCkpJYsApPZEF3jhxL4yLzG.jpg</td>\n",
       "      <td>2017-05-02</td>\n",
       "      <td>...</td>\n",
       "      <td>SPRING</td>\n",
       "      <td>False</td>\n",
       "      <td>True</td>\n",
       "      <td>False</td>\n",
       "      <td>False</td>\n",
       "      <td>WINTER</td>\n",
       "      <td>True</td>\n",
       "      <td>False</td>\n",
       "      <td>False</td>\n",
       "      <td>False</td>\n",
       "    </tr>\n",
       "    <tr>\n",
       "      <th>2</th>\n",
       "      <td>66732.0</td>\n",
       "      <td>Stranger Things</td>\n",
       "      <td>4.0</td>\n",
       "      <td>34.0</td>\n",
       "      <td>16161.0</td>\n",
       "      <td>8.624</td>\n",
       "      <td>When a young boy vanishes, a small town uncove...</td>\n",
       "      <td>False</td>\n",
       "      <td>/2MaumbgBlW1NoPo3ZJO38A6v7OS.jpg</td>\n",
       "      <td>2016-07-15</td>\n",
       "      <td>...</td>\n",
       "      <td>SUMMER</td>\n",
       "      <td>False</td>\n",
       "      <td>False</td>\n",
       "      <td>True</td>\n",
       "      <td>False</td>\n",
       "      <td>SUMMER</td>\n",
       "      <td>False</td>\n",
       "      <td>False</td>\n",
       "      <td>True</td>\n",
       "      <td>False</td>\n",
       "    </tr>\n",
       "    <tr>\n",
       "      <th>3</th>\n",
       "      <td>1402.0</td>\n",
       "      <td>The Walking Dead</td>\n",
       "      <td>11.0</td>\n",
       "      <td>177.0</td>\n",
       "      <td>15432.0</td>\n",
       "      <td>8.121</td>\n",
       "      <td>Sheriff's deputy Rick Grimes awakens from a co...</td>\n",
       "      <td>False</td>\n",
       "      <td>/x4salpjB11umlUOltfNvSSrjSXm.jpg</td>\n",
       "      <td>2010-10-31</td>\n",
       "      <td>...</td>\n",
       "      <td>FALL</td>\n",
       "      <td>False</td>\n",
       "      <td>False</td>\n",
       "      <td>False</td>\n",
       "      <td>True</td>\n",
       "      <td>FALL</td>\n",
       "      <td>False</td>\n",
       "      <td>False</td>\n",
       "      <td>False</td>\n",
       "      <td>True</td>\n",
       "    </tr>\n",
       "    <tr>\n",
       "      <th>4</th>\n",
       "      <td>63174.0</td>\n",
       "      <td>Lucifer</td>\n",
       "      <td>6.0</td>\n",
       "      <td>93.0</td>\n",
       "      <td>13870.0</td>\n",
       "      <td>8.486</td>\n",
       "      <td>Bored and unhappy as the Lord of Hell, Lucifer...</td>\n",
       "      <td>False</td>\n",
       "      <td>/aDBRtunw49UF4XmqfyNuD9nlYIu.jpg</td>\n",
       "      <td>2016-01-25</td>\n",
       "      <td>...</td>\n",
       "      <td>WINTER</td>\n",
       "      <td>True</td>\n",
       "      <td>False</td>\n",
       "      <td>False</td>\n",
       "      <td>False</td>\n",
       "      <td>FALL</td>\n",
       "      <td>False</td>\n",
       "      <td>False</td>\n",
       "      <td>False</td>\n",
       "      <td>True</td>\n",
       "    </tr>\n",
       "  </tbody>\n",
       "</table>\n",
       "<p>5 rows × 117 columns</p>\n",
       "</div>"
      ],
      "text/plain": [
       "        id              name  number_of_seasons  number_of_episodes  \\\n",
       "0   1399.0   Game of Thrones                8.0                73.0   \n",
       "1  71446.0       Money Heist                3.0                41.0   \n",
       "2  66732.0   Stranger Things                4.0                34.0   \n",
       "3   1402.0  The Walking Dead               11.0               177.0   \n",
       "4  63174.0           Lucifer                6.0                93.0   \n",
       "\n",
       "   vote_count  vote_average  \\\n",
       "0     21857.0         8.442   \n",
       "1     17836.0         8.257   \n",
       "2     16161.0         8.624   \n",
       "3     15432.0         8.121   \n",
       "4     13870.0         8.486   \n",
       "\n",
       "                                            overview  adult  \\\n",
       "0  Seven noble families fight for control of the ...  False   \n",
       "1  To carry out the biggest heist in history, a m...  False   \n",
       "2  When a young boy vanishes, a small town uncove...  False   \n",
       "3  Sheriff's deputy Rick Grimes awakens from a co...  False   \n",
       "4  Bored and unhappy as the Lord of Hell, Lucifer...  False   \n",
       "\n",
       "                      backdrop_path first_air_date  ... first_air_date_season  \\\n",
       "0   /2OMB0ynKlyIenMJWI2Dy9IWT4c.jpg     2011-04-17  ...                SPRING   \n",
       "1  /gFZriCkpJYsApPZEF3jhxL4yLzG.jpg     2017-05-02  ...                SPRING   \n",
       "2  /2MaumbgBlW1NoPo3ZJO38A6v7OS.jpg     2016-07-15  ...                SUMMER   \n",
       "3  /x4salpjB11umlUOltfNvSSrjSXm.jpg     2010-10-31  ...                  FALL   \n",
       "4  /aDBRtunw49UF4XmqfyNuD9nlYIu.jpg     2016-01-25  ...                WINTER   \n",
       "\n",
       "  first_air_date_winter first_air_date_spring first_air_date_summer  \\\n",
       "0                 False                  True                 False   \n",
       "1                 False                  True                 False   \n",
       "2                 False                 False                  True   \n",
       "3                 False                 False                 False   \n",
       "4                  True                 False                 False   \n",
       "\n",
       "   first_air_date_fall last_air_date_season last_air_date_winter  \\\n",
       "0                False               SPRING                False   \n",
       "1                False               WINTER                 True   \n",
       "2                False               SUMMER                False   \n",
       "3                 True                 FALL                False   \n",
       "4                False                 FALL                False   \n",
       "\n",
       "  last_air_date_spring last_air_date_summer last_air_date_fall  \n",
       "0                 True                False              False  \n",
       "1                False                False              False  \n",
       "2                False                 True              False  \n",
       "3                False                False               True  \n",
       "4                False                False               True  \n",
       "\n",
       "[5 rows x 117 columns]"
      ]
     },
     "execution_count": 43,
     "metadata": {},
     "output_type": "execute_result"
    }
   ],
   "source": [
    "# Inspecting columns to ensure process was done correctly\n",
    "df.head(5)"
   ]
  },
  {
   "cell_type": "code",
   "execution_count": 44,
   "metadata": {},
   "outputs": [],
   "source": [
    "df.to_csv(\"TMDB_tv_dataset_v3.csv\", index=False)"
   ]
  }
 ],
 "metadata": {
  "colab": {
   "provenance": []
  },
  "kernelspec": {
   "display_name": "Python 3 (ipykernel)",
   "language": "python",
   "name": "python3"
  },
  "language_info": {
   "codemirror_mode": {
    "name": "ipython",
    "version": 3
   },
   "file_extension": ".py",
   "mimetype": "text/x-python",
   "name": "python",
   "nbconvert_exporter": "python",
   "pygments_lexer": "ipython3",
   "version": "3.11.5"
  }
 },
 "nbformat": 4,
 "nbformat_minor": 4
}
